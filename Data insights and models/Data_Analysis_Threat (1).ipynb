{
  "nbformat": 4,
  "nbformat_minor": 0,
  "metadata": {
    "colab": {
      "name": "Data_Analysis_Threat.ipynb",
      "provenance": [],
      "collapsed_sections": []
    },
    "kernelspec": {
      "name": "python3",
      "display_name": "Python 3"
    }
  },
  "cells": [
    {
      "cell_type": "markdown",
      "metadata": {
        "id": "xlzJDaeXDxfE",
        "colab_type": "text"
      },
      "source": [
        "# Libraries Import"
      ]
    },
    {
      "cell_type": "code",
      "metadata": {
        "id": "cpOOe8wNPefD",
        "colab_type": "code",
        "colab": {
          "base_uri": "https://localhost:8080/",
          "height": 71
        },
        "outputId": "3d04d537-1cf3-4658-da70-5a053873f173"
      },
      "source": [
        "import seaborn as sns\n",
        "import pandas as pd\n",
        "import numpy as np\n",
        "import matplotlib.pyplot as plt"
      ],
      "execution_count": 1,
      "outputs": [
        {
          "output_type": "stream",
          "text": [
            "/usr/local/lib/python3.6/dist-packages/statsmodels/tools/_testing.py:19: FutureWarning: pandas.util.testing is deprecated. Use the functions in the public API at pandas.testing instead.\n",
            "  import pandas.util.testing as tm\n"
          ],
          "name": "stderr"
        }
      ]
    },
    {
      "cell_type": "markdown",
      "metadata": {
        "id": "pyWGwrnfD2OA",
        "colab_type": "text"
      },
      "source": [
        "# Data Retrive to drive"
      ]
    },
    {
      "cell_type": "code",
      "metadata": {
        "id": "k0k05ZVyPq0z",
        "colab_type": "code",
        "colab": {
          "base_uri": "https://localhost:8080/",
          "height": 122
        },
        "outputId": "9f3528ec-31bf-4bc3-e29d-e1d33914cbda"
      },
      "source": [
        "from google.colab import drive\n",
        "drive.mount('content/')"
      ],
      "execution_count": 2,
      "outputs": [
        {
          "output_type": "stream",
          "text": [
            "Go to this URL in a browser: https://accounts.google.com/o/oauth2/auth?client_id=947318989803-6bn6qk8qdgf4n4g3pfee6491hc0brc4i.apps.googleusercontent.com&redirect_uri=urn%3aietf%3awg%3aoauth%3a2.0%3aoob&response_type=code&scope=email%20https%3a%2f%2fwww.googleapis.com%2fauth%2fdocs.test%20https%3a%2f%2fwww.googleapis.com%2fauth%2fdrive%20https%3a%2f%2fwww.googleapis.com%2fauth%2fdrive.photos.readonly%20https%3a%2f%2fwww.googleapis.com%2fauth%2fpeopleapi.readonly\n",
            "\n",
            "Enter your authorization code:\n",
            "··········\n",
            "Mounted at content/\n"
          ],
          "name": "stdout"
        }
      ]
    },
    {
      "cell_type": "markdown",
      "metadata": {
        "id": "Fmz33T1tD8MO",
        "colab_type": "text"
      },
      "source": [
        "# Data Preprocessing"
      ]
    },
    {
      "cell_type": "code",
      "metadata": {
        "id": "ilZ7DBWTP2ma",
        "colab_type": "code",
        "colab": {}
      },
      "source": [
        "df = pd.read_csv(\"/content/content/My Drive/Threat Data/paloalto.csv\")"
      ],
      "execution_count": 3,
      "outputs": []
    },
    {
      "cell_type": "code",
      "metadata": {
        "id": "DHOI9dZ9QOFO",
        "colab_type": "code",
        "colab": {
          "base_uri": "https://localhost:8080/",
          "height": 445
        },
        "outputId": "9bac242f-aee1-4776-c1e7-34f9e52a5c51"
      },
      "source": [
        "# Show top 5 rows\n",
        "df.head()"
      ],
      "execution_count": 4,
      "outputs": [
        {
          "output_type": "execute_result",
          "data": {
            "text/html": [
              "<div>\n",
              "<style scoped>\n",
              "    .dataframe tbody tr th:only-of-type {\n",
              "        vertical-align: middle;\n",
              "    }\n",
              "\n",
              "    .dataframe tbody tr th {\n",
              "        vertical-align: top;\n",
              "    }\n",
              "\n",
              "    .dataframe thead th {\n",
              "        text-align: right;\n",
              "    }\n",
              "</style>\n",
              "<table border=\"1\" class=\"dataframe\">\n",
              "  <thead>\n",
              "    <tr style=\"text-align: right;\">\n",
              "      <th></th>\n",
              "      <th>Domain</th>\n",
              "      <th>Receive Time</th>\n",
              "      <th>Serial #</th>\n",
              "      <th>Type</th>\n",
              "      <th>Threat/Content Type</th>\n",
              "      <th>Config Version</th>\n",
              "      <th>Generate Time</th>\n",
              "      <th>Source address</th>\n",
              "      <th>Destination address</th>\n",
              "      <th>NAT Source IP</th>\n",
              "      <th>NAT Destination IP</th>\n",
              "      <th>Rule</th>\n",
              "      <th>Source User</th>\n",
              "      <th>Destination User</th>\n",
              "      <th>Application</th>\n",
              "      <th>Virtual System</th>\n",
              "      <th>Source Zone</th>\n",
              "      <th>Destination Zone</th>\n",
              "      <th>Inbound Interface</th>\n",
              "      <th>Outbound Interface</th>\n",
              "      <th>Log Action</th>\n",
              "      <th>Time Logged</th>\n",
              "      <th>Session ID</th>\n",
              "      <th>Repeat Count</th>\n",
              "      <th>Source Port</th>\n",
              "      <th>Destination Port</th>\n",
              "      <th>NAT Source Port</th>\n",
              "      <th>NAT Destination Port</th>\n",
              "      <th>Flags</th>\n",
              "      <th>IP Protocol</th>\n",
              "      <th>Action</th>\n",
              "      <th>URL/Filename</th>\n",
              "      <th>Threat/Content Name</th>\n",
              "      <th>Category</th>\n",
              "      <th>Severity</th>\n",
              "      <th>Direction</th>\n",
              "      <th>Sequence Number</th>\n",
              "      <th>Action Flags</th>\n",
              "      <th>Source Country</th>\n",
              "      <th>Destination Country</th>\n",
              "      <th>cpadding</th>\n",
              "      <th>contenttype</th>\n",
              "      <th>pcap_id</th>\n",
              "      <th>filedigest</th>\n",
              "      <th>cloud</th>\n",
              "      <th>url_idx</th>\n",
              "      <th>user_agent</th>\n",
              "      <th>filetype</th>\n",
              "      <th>xff</th>\n",
              "      <th>referer</th>\n",
              "      <th>sender</th>\n",
              "      <th>subject</th>\n",
              "      <th>recipient</th>\n",
              "      <th>reportid</th>\n",
              "      <th>DG Hierarchy Level 1</th>\n",
              "      <th>DG Hierarchy Level 2</th>\n",
              "      <th>DG Hierarchy Level 3</th>\n",
              "      <th>DG Hierarchy Level 4</th>\n",
              "      <th>Virtual System Name</th>\n",
              "      <th>Device Name</th>\n",
              "      <th>file_url</th>\n",
              "      <th>Source VM UUID</th>\n",
              "      <th>Destination VM UUID</th>\n",
              "      <th>http_method</th>\n",
              "      <th>Tunnel ID/IMSI</th>\n",
              "      <th>Monitor Tag/IMEI</th>\n",
              "      <th>Parent Session ID</th>\n",
              "      <th>Parent Session Start Time</th>\n",
              "      <th>Tunnel</th>\n",
              "      <th>thr_category</th>\n",
              "      <th>contentver</th>\n",
              "      <th>sig_flags</th>\n",
              "      <th>SCTP Association ID</th>\n",
              "      <th>Payload Protocol ID</th>\n",
              "      <th>http_headers</th>\n",
              "      <th>URL Category List</th>\n",
              "      <th>UUID for rule</th>\n",
              "      <th>HTTP/2 Connection</th>\n",
              "      <th>dynusergroup_name</th>\n",
              "    </tr>\n",
              "  </thead>\n",
              "  <tbody>\n",
              "    <tr>\n",
              "      <th>0</th>\n",
              "      <td>1</td>\n",
              "      <td>2020-05-29 05:12:12.000</td>\n",
              "      <td>7.2550000573e+012</td>\n",
              "      <td>THREAT</td>\n",
              "      <td>vulnerability</td>\n",
              "      <td>2049</td>\n",
              "      <td>43980.216806</td>\n",
              "      <td>23.94.94.0/24</td>\n",
              "      <td>172.19.30.0/24</td>\n",
              "      <td>23.94.94.0/24</td>\n",
              "      <td>172.19.32.0/24</td>\n",
              "      <td>O2I_Prod_Server_Access</td>\n",
              "      <td>NaN</td>\n",
              "      <td>NaN</td>\n",
              "      <td>web-browsing</td>\n",
              "      <td>vsys1</td>\n",
              "      <td>Internet_Zone</td>\n",
              "      <td>Prod_Zone</td>\n",
              "      <td>ethernet1/1</td>\n",
              "      <td>ethernet1/2</td>\n",
              "      <td>Syslog-Profile</td>\n",
              "      <td>2020-05-29 05:12:12.000</td>\n",
              "      <td>405508</td>\n",
              "      <td>1</td>\n",
              "      <td>58603</td>\n",
              "      <td>80</td>\n",
              "      <td>58603</td>\n",
              "      <td>80</td>\n",
              "      <td>0x402000</td>\n",
              "      <td>tcp</td>\n",
              "      <td>alert</td>\n",
              "      <td>NaN</td>\n",
              "      <td>HTTP SQL Injection Attempt(30514)</td>\n",
              "      <td>health-and-medicine</td>\n",
              "      <td>medium</td>\n",
              "      <td>client-to-server</td>\n",
              "      <td>761214</td>\n",
              "      <td>0x0</td>\n",
              "      <td>United States</td>\n",
              "      <td>172.16.0.0-172.31.255.255</td>\n",
              "      <td>0</td>\n",
              "      <td>NaN</td>\n",
              "      <td>0</td>\n",
              "      <td>NaN</td>\n",
              "      <td>NaN</td>\n",
              "      <td>1</td>\n",
              "      <td>NaN</td>\n",
              "      <td>NaN</td>\n",
              "      <td>NaN</td>\n",
              "      <td>NaN</td>\n",
              "      <td>NaN</td>\n",
              "      <td>NaN</td>\n",
              "      <td>NaN</td>\n",
              "      <td>0</td>\n",
              "      <td>0</td>\n",
              "      <td>0</td>\n",
              "      <td>0</td>\n",
              "      <td>0</td>\n",
              "      <td>ADC-FW</td>\n",
              "      <td>Abbott-ADC-FW</td>\n",
              "      <td>NaN</td>\n",
              "      <td>NaN</td>\n",
              "      <td>NaN</td>\n",
              "      <td>NaN</td>\n",
              "      <td>0</td>\n",
              "      <td>NaN</td>\n",
              "      <td>0</td>\n",
              "      <td>NaN</td>\n",
              "      <td>NaN</td>\n",
              "      <td>sql-injection</td>\n",
              "      <td>AppThreat-8277-6107</td>\n",
              "      <td>0x0</td>\n",
              "      <td>0</td>\n",
              "      <td>4294967295</td>\n",
              "      <td>NaN</td>\n",
              "      <td>NaN</td>\n",
              "      <td>NaN</td>\n",
              "      <td>NaN</td>\n",
              "      <td>NaN</td>\n",
              "    </tr>\n",
              "    <tr>\n",
              "      <th>1</th>\n",
              "      <td>1</td>\n",
              "      <td>2020-05-29 05:12:06.000</td>\n",
              "      <td>7.2550000573e+012</td>\n",
              "      <td>THREAT</td>\n",
              "      <td>vulnerability</td>\n",
              "      <td>2049</td>\n",
              "      <td>43980.216736</td>\n",
              "      <td>23.94.94.0/24</td>\n",
              "      <td>172.19.30.0/24</td>\n",
              "      <td>23.94.94.0/24</td>\n",
              "      <td>172.19.32.0/24</td>\n",
              "      <td>O2I_Prod_Server_Access</td>\n",
              "      <td>NaN</td>\n",
              "      <td>NaN</td>\n",
              "      <td>web-browsing</td>\n",
              "      <td>vsys1</td>\n",
              "      <td>Internet_Zone</td>\n",
              "      <td>Prod_Zone</td>\n",
              "      <td>ethernet1/1</td>\n",
              "      <td>ethernet1/2</td>\n",
              "      <td>Syslog-Profile</td>\n",
              "      <td>2020-05-29 05:12:06.000</td>\n",
              "      <td>381204</td>\n",
              "      <td>3</td>\n",
              "      <td>58458</td>\n",
              "      <td>80</td>\n",
              "      <td>58458</td>\n",
              "      <td>80</td>\n",
              "      <td>0x402000</td>\n",
              "      <td>tcp</td>\n",
              "      <td>alert</td>\n",
              "      <td>NaN</td>\n",
              "      <td>HTTP SQL Injection Attempt(30514)</td>\n",
              "      <td>health-and-medicine</td>\n",
              "      <td>medium</td>\n",
              "      <td>client-to-server</td>\n",
              "      <td>761213</td>\n",
              "      <td>0x0</td>\n",
              "      <td>United States</td>\n",
              "      <td>172.16.0.0-172.31.255.255</td>\n",
              "      <td>0</td>\n",
              "      <td>NaN</td>\n",
              "      <td>0</td>\n",
              "      <td>NaN</td>\n",
              "      <td>NaN</td>\n",
              "      <td>1</td>\n",
              "      <td>NaN</td>\n",
              "      <td>NaN</td>\n",
              "      <td>NaN</td>\n",
              "      <td>NaN</td>\n",
              "      <td>NaN</td>\n",
              "      <td>NaN</td>\n",
              "      <td>NaN</td>\n",
              "      <td>0</td>\n",
              "      <td>0</td>\n",
              "      <td>0</td>\n",
              "      <td>0</td>\n",
              "      <td>0</td>\n",
              "      <td>ADC-FW</td>\n",
              "      <td>Abbott-ADC-FW</td>\n",
              "      <td>NaN</td>\n",
              "      <td>NaN</td>\n",
              "      <td>NaN</td>\n",
              "      <td>NaN</td>\n",
              "      <td>0</td>\n",
              "      <td>NaN</td>\n",
              "      <td>0</td>\n",
              "      <td>NaN</td>\n",
              "      <td>NaN</td>\n",
              "      <td>sql-injection</td>\n",
              "      <td>AppThreat-8277-6107</td>\n",
              "      <td>0x0</td>\n",
              "      <td>0</td>\n",
              "      <td>4294967295</td>\n",
              "      <td>NaN</td>\n",
              "      <td>NaN</td>\n",
              "      <td>NaN</td>\n",
              "      <td>NaN</td>\n",
              "      <td>NaN</td>\n",
              "    </tr>\n",
              "    <tr>\n",
              "      <th>2</th>\n",
              "      <td>1</td>\n",
              "      <td>2020-05-29 05:11:59.000</td>\n",
              "      <td>7.2550000573e+012</td>\n",
              "      <td>THREAT</td>\n",
              "      <td>vulnerability</td>\n",
              "      <td>2049</td>\n",
              "      <td>43980.216655</td>\n",
              "      <td>23.94.94.0/24</td>\n",
              "      <td>172.19.30.0/24</td>\n",
              "      <td>23.94.94.0/24</td>\n",
              "      <td>172.19.32.0/24</td>\n",
              "      <td>O2I_Prod_Server_Access</td>\n",
              "      <td>NaN</td>\n",
              "      <td>NaN</td>\n",
              "      <td>web-browsing</td>\n",
              "      <td>vsys1</td>\n",
              "      <td>Internet_Zone</td>\n",
              "      <td>Prod_Zone</td>\n",
              "      <td>ethernet1/1</td>\n",
              "      <td>ethernet1/2</td>\n",
              "      <td>Syslog-Profile</td>\n",
              "      <td>2020-05-29 05:11:59.000</td>\n",
              "      <td>406647</td>\n",
              "      <td>3</td>\n",
              "      <td>58321</td>\n",
              "      <td>80</td>\n",
              "      <td>58321</td>\n",
              "      <td>80</td>\n",
              "      <td>0x402000</td>\n",
              "      <td>tcp</td>\n",
              "      <td>alert</td>\n",
              "      <td>NaN</td>\n",
              "      <td>HTTP SQL Injection Attempt(30514)</td>\n",
              "      <td>health-and-medicine</td>\n",
              "      <td>medium</td>\n",
              "      <td>client-to-server</td>\n",
              "      <td>761212</td>\n",
              "      <td>0x0</td>\n",
              "      <td>United States</td>\n",
              "      <td>172.16.0.0-172.31.255.255</td>\n",
              "      <td>0</td>\n",
              "      <td>NaN</td>\n",
              "      <td>0</td>\n",
              "      <td>NaN</td>\n",
              "      <td>NaN</td>\n",
              "      <td>1</td>\n",
              "      <td>NaN</td>\n",
              "      <td>NaN</td>\n",
              "      <td>NaN</td>\n",
              "      <td>NaN</td>\n",
              "      <td>NaN</td>\n",
              "      <td>NaN</td>\n",
              "      <td>NaN</td>\n",
              "      <td>0</td>\n",
              "      <td>0</td>\n",
              "      <td>0</td>\n",
              "      <td>0</td>\n",
              "      <td>0</td>\n",
              "      <td>ADC-FW</td>\n",
              "      <td>Abbott-ADC-FW</td>\n",
              "      <td>NaN</td>\n",
              "      <td>NaN</td>\n",
              "      <td>NaN</td>\n",
              "      <td>NaN</td>\n",
              "      <td>0</td>\n",
              "      <td>NaN</td>\n",
              "      <td>0</td>\n",
              "      <td>NaN</td>\n",
              "      <td>NaN</td>\n",
              "      <td>sql-injection</td>\n",
              "      <td>AppThreat-8277-6107</td>\n",
              "      <td>0x0</td>\n",
              "      <td>0</td>\n",
              "      <td>4294967295</td>\n",
              "      <td>NaN</td>\n",
              "      <td>NaN</td>\n",
              "      <td>NaN</td>\n",
              "      <td>NaN</td>\n",
              "      <td>NaN</td>\n",
              "    </tr>\n",
              "    <tr>\n",
              "      <th>3</th>\n",
              "      <td>1</td>\n",
              "      <td>2020-05-29 05:11:53.000</td>\n",
              "      <td>7.2550000573e+012</td>\n",
              "      <td>THREAT</td>\n",
              "      <td>vulnerability</td>\n",
              "      <td>2049</td>\n",
              "      <td>43980.216586</td>\n",
              "      <td>23.94.94.0/24</td>\n",
              "      <td>172.19.30.0/24</td>\n",
              "      <td>23.94.94.0/24</td>\n",
              "      <td>172.19.32.0/24</td>\n",
              "      <td>O2I_Prod_Server_Access</td>\n",
              "      <td>NaN</td>\n",
              "      <td>NaN</td>\n",
              "      <td>web-browsing</td>\n",
              "      <td>vsys1</td>\n",
              "      <td>Internet_Zone</td>\n",
              "      <td>Prod_Zone</td>\n",
              "      <td>ethernet1/1</td>\n",
              "      <td>ethernet1/2</td>\n",
              "      <td>Syslog-Profile</td>\n",
              "      <td>2020-05-29 05:11:53.000</td>\n",
              "      <td>365390</td>\n",
              "      <td>3</td>\n",
              "      <td>58176</td>\n",
              "      <td>80</td>\n",
              "      <td>58176</td>\n",
              "      <td>80</td>\n",
              "      <td>0x402000</td>\n",
              "      <td>tcp</td>\n",
              "      <td>alert</td>\n",
              "      <td>NaN</td>\n",
              "      <td>HTTP SQL Injection Attempt(30514)</td>\n",
              "      <td>health-and-medicine</td>\n",
              "      <td>medium</td>\n",
              "      <td>client-to-server</td>\n",
              "      <td>761211</td>\n",
              "      <td>0x0</td>\n",
              "      <td>United States</td>\n",
              "      <td>172.16.0.0-172.31.255.255</td>\n",
              "      <td>0</td>\n",
              "      <td>NaN</td>\n",
              "      <td>0</td>\n",
              "      <td>NaN</td>\n",
              "      <td>NaN</td>\n",
              "      <td>1</td>\n",
              "      <td>NaN</td>\n",
              "      <td>NaN</td>\n",
              "      <td>NaN</td>\n",
              "      <td>NaN</td>\n",
              "      <td>NaN</td>\n",
              "      <td>NaN</td>\n",
              "      <td>NaN</td>\n",
              "      <td>0</td>\n",
              "      <td>0</td>\n",
              "      <td>0</td>\n",
              "      <td>0</td>\n",
              "      <td>0</td>\n",
              "      <td>ADC-FW</td>\n",
              "      <td>Abbott-ADC-FW</td>\n",
              "      <td>NaN</td>\n",
              "      <td>NaN</td>\n",
              "      <td>NaN</td>\n",
              "      <td>NaN</td>\n",
              "      <td>0</td>\n",
              "      <td>NaN</td>\n",
              "      <td>0</td>\n",
              "      <td>NaN</td>\n",
              "      <td>NaN</td>\n",
              "      <td>sql-injection</td>\n",
              "      <td>AppThreat-8277-6107</td>\n",
              "      <td>0x0</td>\n",
              "      <td>0</td>\n",
              "      <td>4294967295</td>\n",
              "      <td>NaN</td>\n",
              "      <td>NaN</td>\n",
              "      <td>NaN</td>\n",
              "      <td>NaN</td>\n",
              "      <td>NaN</td>\n",
              "    </tr>\n",
              "    <tr>\n",
              "      <th>4</th>\n",
              "      <td>1</td>\n",
              "      <td>2020-05-29 05:11:47.000</td>\n",
              "      <td>7.2550000573e+012</td>\n",
              "      <td>THREAT</td>\n",
              "      <td>vulnerability</td>\n",
              "      <td>2049</td>\n",
              "      <td>43980.216516</td>\n",
              "      <td>23.94.94.0/24</td>\n",
              "      <td>172.19.30.0/24</td>\n",
              "      <td>23.94.94.0/24</td>\n",
              "      <td>172.19.32.0/24</td>\n",
              "      <td>O2I_Prod_Server_Access</td>\n",
              "      <td>NaN</td>\n",
              "      <td>NaN</td>\n",
              "      <td>web-browsing</td>\n",
              "      <td>vsys1</td>\n",
              "      <td>Internet_Zone</td>\n",
              "      <td>Prod_Zone</td>\n",
              "      <td>ethernet1/1</td>\n",
              "      <td>ethernet1/2</td>\n",
              "      <td>Syslog-Profile</td>\n",
              "      <td>2020-05-29 05:11:47.000</td>\n",
              "      <td>390193</td>\n",
              "      <td>1</td>\n",
              "      <td>58042</td>\n",
              "      <td>80</td>\n",
              "      <td>58042</td>\n",
              "      <td>80</td>\n",
              "      <td>0x402000</td>\n",
              "      <td>tcp</td>\n",
              "      <td>alert</td>\n",
              "      <td>NaN</td>\n",
              "      <td>HTTP SQL Injection Attempt(30514)</td>\n",
              "      <td>health-and-medicine</td>\n",
              "      <td>medium</td>\n",
              "      <td>client-to-server</td>\n",
              "      <td>761210</td>\n",
              "      <td>0x0</td>\n",
              "      <td>United States</td>\n",
              "      <td>172.16.0.0-172.31.255.255</td>\n",
              "      <td>0</td>\n",
              "      <td>NaN</td>\n",
              "      <td>0</td>\n",
              "      <td>NaN</td>\n",
              "      <td>NaN</td>\n",
              "      <td>1</td>\n",
              "      <td>NaN</td>\n",
              "      <td>NaN</td>\n",
              "      <td>NaN</td>\n",
              "      <td>NaN</td>\n",
              "      <td>NaN</td>\n",
              "      <td>NaN</td>\n",
              "      <td>NaN</td>\n",
              "      <td>0</td>\n",
              "      <td>0</td>\n",
              "      <td>0</td>\n",
              "      <td>0</td>\n",
              "      <td>0</td>\n",
              "      <td>ADC-FW</td>\n",
              "      <td>Abbott-ADC-FW</td>\n",
              "      <td>NaN</td>\n",
              "      <td>NaN</td>\n",
              "      <td>NaN</td>\n",
              "      <td>NaN</td>\n",
              "      <td>0</td>\n",
              "      <td>NaN</td>\n",
              "      <td>0</td>\n",
              "      <td>NaN</td>\n",
              "      <td>NaN</td>\n",
              "      <td>sql-injection</td>\n",
              "      <td>AppThreat-8277-6107</td>\n",
              "      <td>0x0</td>\n",
              "      <td>0</td>\n",
              "      <td>4294967295</td>\n",
              "      <td>NaN</td>\n",
              "      <td>NaN</td>\n",
              "      <td>NaN</td>\n",
              "      <td>NaN</td>\n",
              "      <td>NaN</td>\n",
              "    </tr>\n",
              "  </tbody>\n",
              "</table>\n",
              "</div>"
            ],
            "text/plain": [
              "   Domain             Receive Time  ... HTTP/2 Connection dynusergroup_name\n",
              "0       1  2020-05-29 05:12:12.000  ...               NaN               NaN\n",
              "1       1  2020-05-29 05:12:06.000  ...               NaN               NaN\n",
              "2       1  2020-05-29 05:11:59.000  ...               NaN               NaN\n",
              "3       1  2020-05-29 05:11:53.000  ...               NaN               NaN\n",
              "4       1  2020-05-29 05:11:47.000  ...               NaN               NaN\n",
              "\n",
              "[5 rows x 79 columns]"
            ]
          },
          "metadata": {
            "tags": []
          },
          "execution_count": 4
        }
      ]
    },
    {
      "cell_type": "code",
      "metadata": {
        "id": "4Iwn_ImVQPoi",
        "colab_type": "code",
        "colab": {
          "base_uri": "https://localhost:8080/",
          "height": 391
        },
        "outputId": "e9b618ee-6cc0-4c70-c3d5-637bcab3128b"
      },
      "source": [
        "#Show total coloumns\n",
        "df.columns"
      ],
      "execution_count": 5,
      "outputs": [
        {
          "output_type": "execute_result",
          "data": {
            "text/plain": [
              "Index(['Domain', 'Receive Time', 'Serial #', 'Type', 'Threat/Content Type',\n",
              "       'Config Version', 'Generate Time', 'Source address',\n",
              "       'Destination address', 'NAT Source IP', 'NAT Destination IP', 'Rule',\n",
              "       'Source User', 'Destination User', 'Application', 'Virtual System',\n",
              "       'Source Zone', 'Destination Zone', 'Inbound Interface',\n",
              "       'Outbound Interface', 'Log Action', 'Time Logged', 'Session ID',\n",
              "       'Repeat Count', 'Source Port', 'Destination Port', 'NAT Source Port',\n",
              "       'NAT Destination Port', 'Flags', 'IP Protocol', 'Action',\n",
              "       'URL/Filename', 'Threat/Content Name', 'Category', 'Severity',\n",
              "       'Direction', 'Sequence Number', 'Action Flags', 'Source Country',\n",
              "       'Destination Country', 'cpadding', 'contenttype', 'pcap_id',\n",
              "       'filedigest', 'cloud', 'url_idx', 'user_agent', 'filetype', 'xff',\n",
              "       'referer', 'sender', 'subject', 'recipient', 'reportid',\n",
              "       'DG Hierarchy Level 1', 'DG Hierarchy Level 2', 'DG Hierarchy Level 3',\n",
              "       'DG Hierarchy Level 4', 'Virtual System Name', 'Device Name',\n",
              "       'file_url', 'Source VM UUID', 'Destination VM UUID', 'http_method',\n",
              "       'Tunnel ID/IMSI', 'Monitor Tag/IMEI', 'Parent Session ID',\n",
              "       'Parent Session Start Time', 'Tunnel', 'thr_category', 'contentver',\n",
              "       'sig_flags', 'SCTP Association ID', 'Payload Protocol ID',\n",
              "       'http_headers', 'URL Category List', 'UUID for rule',\n",
              "       'HTTP/2 Connection', 'dynusergroup_name'],\n",
              "      dtype='object')"
            ]
          },
          "metadata": {
            "tags": []
          },
          "execution_count": 5
        }
      ]
    },
    {
      "cell_type": "code",
      "metadata": {
        "id": "d1KILEBKQTcM",
        "colab_type": "code",
        "colab": {
          "base_uri": "https://localhost:8080/",
          "height": 1000
        },
        "outputId": "efbca650-ef9f-43d7-d64f-c3d933abe3b0"
      },
      "source": [
        "# Show Information Null_Values etc\n",
        "df.info()"
      ],
      "execution_count": 6,
      "outputs": [
        {
          "output_type": "stream",
          "text": [
            "<class 'pandas.core.frame.DataFrame'>\n",
            "RangeIndex: 91819 entries, 0 to 91818\n",
            "Data columns (total 79 columns):\n",
            " #   Column                     Non-Null Count  Dtype  \n",
            "---  ------                     --------------  -----  \n",
            " 0   Domain                     91819 non-null  int64  \n",
            " 1   Receive Time               91819 non-null  object \n",
            " 2   Serial #                   91819 non-null  object \n",
            " 3   Type                       91819 non-null  object \n",
            " 4   Threat/Content Type        91819 non-null  object \n",
            " 5   Config Version             91819 non-null  int64  \n",
            " 6   Generate Time              91819 non-null  float64\n",
            " 7   Source address             91819 non-null  object \n",
            " 8   Destination address        91819 non-null  object \n",
            " 9   NAT Source IP              89330 non-null  object \n",
            " 10  NAT Destination IP         89330 non-null  object \n",
            " 11  Rule                       89331 non-null  object \n",
            " 12  Source User                0 non-null      float64\n",
            " 13  Destination User           0 non-null      float64\n",
            " 14  Application                91819 non-null  object \n",
            " 15  Virtual System             91819 non-null  object \n",
            " 16  Source Zone                91819 non-null  object \n",
            " 17  Destination Zone           91819 non-null  object \n",
            " 18  Inbound Interface          91818 non-null  object \n",
            " 19  Outbound Interface         89331 non-null  object \n",
            " 20  Log Action                 45440 non-null  object \n",
            " 21  Time Logged                91819 non-null  object \n",
            " 22  Session ID                 91819 non-null  int64  \n",
            " 23  Repeat Count               91819 non-null  int64  \n",
            " 24  Source Port                91819 non-null  int64  \n",
            " 25  Destination Port           91819 non-null  int64  \n",
            " 26  NAT Source Port            91819 non-null  int64  \n",
            " 27  NAT Destination Port       91819 non-null  int64  \n",
            " 28  Flags                      91819 non-null  object \n",
            " 29  IP Protocol                91819 non-null  object \n",
            " 30  Action                     91819 non-null  object \n",
            " 31  URL/Filename               70633 non-null  object \n",
            " 32  Threat/Content Name        91819 non-null  object \n",
            " 33  Category                   91819 non-null  object \n",
            " 34  Severity                   91819 non-null  object \n",
            " 35  Direction                  91819 non-null  object \n",
            " 36  Sequence Number            91819 non-null  int64  \n",
            " 37  Action Flags               91819 non-null  object \n",
            " 38  Source Country             91819 non-null  object \n",
            " 39  Destination Country        91819 non-null  object \n",
            " 40  cpadding                   91819 non-null  int64  \n",
            " 41  contenttype                0 non-null      float64\n",
            " 42  pcap_id                    91819 non-null  int64  \n",
            " 43  filedigest                 0 non-null      float64\n",
            " 44  cloud                      0 non-null      float64\n",
            " 45  url_idx                    91819 non-null  int64  \n",
            " 46  user_agent                 0 non-null      float64\n",
            " 47  filetype                   0 non-null      float64\n",
            " 48  xff                        0 non-null      float64\n",
            " 49  referer                    0 non-null      float64\n",
            " 50  sender                     0 non-null      float64\n",
            " 51  subject                    0 non-null      float64\n",
            " 52  recipient                  0 non-null      float64\n",
            " 53  reportid                   91819 non-null  int64  \n",
            " 54  DG Hierarchy Level 1       91819 non-null  int64  \n",
            " 55  DG Hierarchy Level 2       91819 non-null  int64  \n",
            " 56  DG Hierarchy Level 3       91819 non-null  int64  \n",
            " 57  DG Hierarchy Level 4       91819 non-null  int64  \n",
            " 58  Virtual System Name        26518 non-null  object \n",
            " 59  Device Name                91819 non-null  object \n",
            " 60  file_url                   0 non-null      float64\n",
            " 61  Source VM UUID             0 non-null      float64\n",
            " 62  Destination VM UUID        0 non-null      float64\n",
            " 63  http_method                0 non-null      float64\n",
            " 64  Tunnel ID/IMSI             91819 non-null  int64  \n",
            " 65  Monitor Tag/IMEI           0 non-null      float64\n",
            " 66  Parent Session ID          91819 non-null  int64  \n",
            " 67  Parent Session Start Time  0 non-null      float64\n",
            " 68  Tunnel                     0 non-null      float64\n",
            " 69  thr_category               91819 non-null  object \n",
            " 70  contentver                 91819 non-null  object \n",
            " 71  sig_flags                  91819 non-null  object \n",
            " 72  SCTP Association ID        91819 non-null  int64  \n",
            " 73  Payload Protocol ID        91819 non-null  int64  \n",
            " 74  http_headers               0 non-null      float64\n",
            " 75  URL Category List          0 non-null      float64\n",
            " 76  UUID for rule              46594 non-null  object \n",
            " 77  HTTP/2 Connection          48014 non-null  float64\n",
            " 78  dynusergroup_name          0 non-null      float64\n",
            "dtypes: float64(24), int64(21), object(34)\n",
            "memory usage: 55.3+ MB\n"
          ],
          "name": "stdout"
        }
      ]
    },
    {
      "cell_type": "markdown",
      "metadata": {
        "id": "-CB8YsZkEe2Y",
        "colab_type": "text"
      },
      "source": [
        "# Drop Null Columns "
      ]
    },
    {
      "cell_type": "code",
      "metadata": {
        "id": "Js3rgfr4Qj3u",
        "colab_type": "code",
        "colab": {}
      },
      "source": [
        "drop_list =[\"Source User\",\n",
        "\"Destination User\",\n",
        "\"contenttype\",\n",
        "\"filedigest\",\n",
        "\"cloud\",\n",
        "\"user_agent\",\n",
        "\"filetype\",\n",
        "\"xff\",\n",
        "\"referer\",\n",
        "\"sender\",\n",
        "\"subject\",\n",
        "\"recipient\",\n",
        "\"file_url\",\n",
        "\"Source VM UUID\",\n",
        "\"Destination VM UUID\",\n",
        "\"http_method\",\n",
        "\"Monitor Tag/IMEI\",\n",
        "\"Parent Session Start Time\",\n",
        "\"Tunnel\",\n",
        "\"http_headers\",\n",
        "\"URL Category List\",\n",
        "\"dynusergroup_name\"]"
      ],
      "execution_count": 7,
      "outputs": []
    },
    {
      "cell_type": "code",
      "metadata": {
        "id": "UsTwAS5EQ0ZT",
        "colab_type": "code",
        "colab": {}
      },
      "source": [
        "df_without_na = df.drop(axis=1,columns=drop_list)"
      ],
      "execution_count": 8,
      "outputs": []
    },
    {
      "cell_type": "code",
      "metadata": {
        "id": "uGpJa_ofS8mm",
        "colab_type": "code",
        "colab": {
          "base_uri": "https://localhost:8080/",
          "height": 34
        },
        "outputId": "f8808afb-b60b-46d7-9987-300da5f753f7"
      },
      "source": [
        "df_without_na.shape, df.shape"
      ],
      "execution_count": 9,
      "outputs": [
        {
          "output_type": "execute_result",
          "data": {
            "text/plain": [
              "((91819, 57), (91819, 79))"
            ]
          },
          "metadata": {
            "tags": []
          },
          "execution_count": 9
        }
      ]
    },
    {
      "cell_type": "code",
      "metadata": {
        "id": "RHWrlDrZTNVP",
        "colab_type": "code",
        "colab": {
          "base_uri": "https://localhost:8080/",
          "height": 289
        },
        "outputId": "a4fb7f12-7403-414c-d4c4-d319fa73b431"
      },
      "source": [
        "df_without_na.columns"
      ],
      "execution_count": 10,
      "outputs": [
        {
          "output_type": "execute_result",
          "data": {
            "text/plain": [
              "Index(['Domain', 'Receive Time', 'Serial #', 'Type', 'Threat/Content Type',\n",
              "       'Config Version', 'Generate Time', 'Source address',\n",
              "       'Destination address', 'NAT Source IP', 'NAT Destination IP', 'Rule',\n",
              "       'Application', 'Virtual System', 'Source Zone', 'Destination Zone',\n",
              "       'Inbound Interface', 'Outbound Interface', 'Log Action', 'Time Logged',\n",
              "       'Session ID', 'Repeat Count', 'Source Port', 'Destination Port',\n",
              "       'NAT Source Port', 'NAT Destination Port', 'Flags', 'IP Protocol',\n",
              "       'Action', 'URL/Filename', 'Threat/Content Name', 'Category', 'Severity',\n",
              "       'Direction', 'Sequence Number', 'Action Flags', 'Source Country',\n",
              "       'Destination Country', 'cpadding', 'pcap_id', 'url_idx', 'reportid',\n",
              "       'DG Hierarchy Level 1', 'DG Hierarchy Level 2', 'DG Hierarchy Level 3',\n",
              "       'DG Hierarchy Level 4', 'Virtual System Name', 'Device Name',\n",
              "       'Tunnel ID/IMSI', 'Parent Session ID', 'thr_category', 'contentver',\n",
              "       'sig_flags', 'SCTP Association ID', 'Payload Protocol ID',\n",
              "       'UUID for rule', 'HTTP/2 Connection'],\n",
              "      dtype='object')"
            ]
          },
          "metadata": {
            "tags": []
          },
          "execution_count": 10
        }
      ]
    },
    {
      "cell_type": "markdown",
      "metadata": {
        "id": "QkuOCBO0En4l",
        "colab_type": "text"
      },
      "source": [
        "# Drop Un Necessary Columns "
      ]
    },
    {
      "cell_type": "code",
      "metadata": {
        "id": "9uVuKMKCynwy",
        "colab_type": "code",
        "colab": {}
      },
      "source": [
        "# make a list of un necessary columns\n",
        "updated_list = []\n",
        "lists = [\"Threat/Content Type\",\"Rule\",\"Source Zone\",\"Destination Zone\",\"Action\",\"Threat/Content Name\",\"Category\",\"Severity\",\"Source Country\",\"Device Name\",\"thr_category\"]\n",
        "\n",
        "for i in df_without_na.columns:\n",
        "  if i not in lists:\n",
        "    updated_list.append(i)\n",
        "\n"
      ],
      "execution_count": 11,
      "outputs": []
    },
    {
      "cell_type": "code",
      "metadata": {
        "id": "xKSA7ePe0rou",
        "colab_type": "code",
        "colab": {
          "base_uri": "https://localhost:8080/",
          "height": 34
        },
        "outputId": "a19d1411-bfcd-446f-d01c-709a877586b7"
      },
      "source": [
        "# Check lenght of updated_list\n",
        "len(updated_list)"
      ],
      "execution_count": 12,
      "outputs": [
        {
          "output_type": "execute_result",
          "data": {
            "text/plain": [
              "46"
            ]
          },
          "metadata": {
            "tags": []
          },
          "execution_count": 12
        }
      ]
    },
    {
      "cell_type": "code",
      "metadata": {
        "id": "13Kemx5K0Eff",
        "colab_type": "code",
        "colab": {}
      },
      "source": [
        "# Drop Un necessary columns\n",
        "df_update = df_without_na.drop(axis=1,columns=updated_list)"
      ],
      "execution_count": 13,
      "outputs": []
    },
    {
      "cell_type": "code",
      "metadata": {
        "id": "04-jaVMa0GQP",
        "colab_type": "code",
        "colab": {
          "base_uri": "https://localhost:8080/",
          "height": 411
        },
        "outputId": "16db04cf-d468-4c7a-b3c1-78cfe3abc099"
      },
      "source": [
        "# Show top 5 updated columns\n",
        "df_update.head()"
      ],
      "execution_count": 14,
      "outputs": [
        {
          "output_type": "execute_result",
          "data": {
            "text/html": [
              "<div>\n",
              "<style scoped>\n",
              "    .dataframe tbody tr th:only-of-type {\n",
              "        vertical-align: middle;\n",
              "    }\n",
              "\n",
              "    .dataframe tbody tr th {\n",
              "        vertical-align: top;\n",
              "    }\n",
              "\n",
              "    .dataframe thead th {\n",
              "        text-align: right;\n",
              "    }\n",
              "</style>\n",
              "<table border=\"1\" class=\"dataframe\">\n",
              "  <thead>\n",
              "    <tr style=\"text-align: right;\">\n",
              "      <th></th>\n",
              "      <th>Threat/Content Type</th>\n",
              "      <th>Rule</th>\n",
              "      <th>Source Zone</th>\n",
              "      <th>Destination Zone</th>\n",
              "      <th>Action</th>\n",
              "      <th>Threat/Content Name</th>\n",
              "      <th>Category</th>\n",
              "      <th>Severity</th>\n",
              "      <th>Source Country</th>\n",
              "      <th>Device Name</th>\n",
              "      <th>thr_category</th>\n",
              "    </tr>\n",
              "  </thead>\n",
              "  <tbody>\n",
              "    <tr>\n",
              "      <th>0</th>\n",
              "      <td>vulnerability</td>\n",
              "      <td>O2I_Prod_Server_Access</td>\n",
              "      <td>Internet_Zone</td>\n",
              "      <td>Prod_Zone</td>\n",
              "      <td>alert</td>\n",
              "      <td>HTTP SQL Injection Attempt(30514)</td>\n",
              "      <td>health-and-medicine</td>\n",
              "      <td>medium</td>\n",
              "      <td>United States</td>\n",
              "      <td>Abbott-ADC-FW</td>\n",
              "      <td>sql-injection</td>\n",
              "    </tr>\n",
              "    <tr>\n",
              "      <th>1</th>\n",
              "      <td>vulnerability</td>\n",
              "      <td>O2I_Prod_Server_Access</td>\n",
              "      <td>Internet_Zone</td>\n",
              "      <td>Prod_Zone</td>\n",
              "      <td>alert</td>\n",
              "      <td>HTTP SQL Injection Attempt(30514)</td>\n",
              "      <td>health-and-medicine</td>\n",
              "      <td>medium</td>\n",
              "      <td>United States</td>\n",
              "      <td>Abbott-ADC-FW</td>\n",
              "      <td>sql-injection</td>\n",
              "    </tr>\n",
              "    <tr>\n",
              "      <th>2</th>\n",
              "      <td>vulnerability</td>\n",
              "      <td>O2I_Prod_Server_Access</td>\n",
              "      <td>Internet_Zone</td>\n",
              "      <td>Prod_Zone</td>\n",
              "      <td>alert</td>\n",
              "      <td>HTTP SQL Injection Attempt(30514)</td>\n",
              "      <td>health-and-medicine</td>\n",
              "      <td>medium</td>\n",
              "      <td>United States</td>\n",
              "      <td>Abbott-ADC-FW</td>\n",
              "      <td>sql-injection</td>\n",
              "    </tr>\n",
              "    <tr>\n",
              "      <th>3</th>\n",
              "      <td>vulnerability</td>\n",
              "      <td>O2I_Prod_Server_Access</td>\n",
              "      <td>Internet_Zone</td>\n",
              "      <td>Prod_Zone</td>\n",
              "      <td>alert</td>\n",
              "      <td>HTTP SQL Injection Attempt(30514)</td>\n",
              "      <td>health-and-medicine</td>\n",
              "      <td>medium</td>\n",
              "      <td>United States</td>\n",
              "      <td>Abbott-ADC-FW</td>\n",
              "      <td>sql-injection</td>\n",
              "    </tr>\n",
              "    <tr>\n",
              "      <th>4</th>\n",
              "      <td>vulnerability</td>\n",
              "      <td>O2I_Prod_Server_Access</td>\n",
              "      <td>Internet_Zone</td>\n",
              "      <td>Prod_Zone</td>\n",
              "      <td>alert</td>\n",
              "      <td>HTTP SQL Injection Attempt(30514)</td>\n",
              "      <td>health-and-medicine</td>\n",
              "      <td>medium</td>\n",
              "      <td>United States</td>\n",
              "      <td>Abbott-ADC-FW</td>\n",
              "      <td>sql-injection</td>\n",
              "    </tr>\n",
              "  </tbody>\n",
              "</table>\n",
              "</div>"
            ],
            "text/plain": [
              "  Threat/Content Type                    Rule  ...    Device Name   thr_category\n",
              "0       vulnerability  O2I_Prod_Server_Access  ...  Abbott-ADC-FW  sql-injection\n",
              "1       vulnerability  O2I_Prod_Server_Access  ...  Abbott-ADC-FW  sql-injection\n",
              "2       vulnerability  O2I_Prod_Server_Access  ...  Abbott-ADC-FW  sql-injection\n",
              "3       vulnerability  O2I_Prod_Server_Access  ...  Abbott-ADC-FW  sql-injection\n",
              "4       vulnerability  O2I_Prod_Server_Access  ...  Abbott-ADC-FW  sql-injection\n",
              "\n",
              "[5 rows x 11 columns]"
            ]
          },
          "metadata": {
            "tags": []
          },
          "execution_count": 14
        }
      ]
    },
    {
      "cell_type": "markdown",
      "metadata": {
        "id": "NZOnK7zjFE96",
        "colab_type": "text"
      },
      "source": [
        "# Data Analysis / Insights\n",
        "In this data set we take 2 variables\n",
        "1. Action\n",
        "2. Country"
      ]
    },
    {
      "cell_type": "markdown",
      "metadata": {
        "id": "zHu19PKK3HFr",
        "colab_type": "text"
      },
      "source": [
        "# Threat/Content Type vs Action"
      ]
    },
    {
      "cell_type": "markdown",
      "metadata": {
        "id": "AN-uhnOU3Q6d",
        "colab_type": "text"
      },
      "source": [
        " **Threet/Content Type**\n",
        " have 5 types of unique Variable \n",
        "\n",
        "\n",
        "1.   vulnerability\n",
        "2.   spyware\n",
        "3.  packet\n",
        "4.  scan\n",
        "5.  flood\n",
        "\n",
        "**Action**\n",
        " have 4 types of unique Variable \n",
        "\n",
        "1.   alert\n",
        "2.   reset-both\n",
        "3.  reset-server\n",
        "4. Random-drop"
      ]
    },
    {
      "cell_type": "markdown",
      "metadata": {
        "id": "Dh3OHsLF4N_c",
        "colab_type": "text"
      },
      "source": [
        "## 1. Vulerability vs Action"
      ]
    },
    {
      "cell_type": "code",
      "metadata": {
        "id": "xYEZ4Nqs4yds",
        "colab_type": "code",
        "colab": {}
      },
      "source": [
        "# Reterive the data from dataset to check whether data is equal to vulanrity or not\n",
        "vulanbrity_action = df_update[df_update[\"Threat/Content Type\"]==\"vulnerability\"]"
      ],
      "execution_count": 15,
      "outputs": []
    },
    {
      "cell_type": "code",
      "metadata": {
        "id": "8faeeqjw4efj",
        "colab_type": "code",
        "colab": {
          "base_uri": "https://localhost:8080/",
          "height": 301
        },
        "outputId": "1cced54b-dc7e-433b-adbd-e51d4fb4b5fb"
      },
      "source": [
        "# Make Count Plot\n",
        "\n",
        "sns.set(style=\"darkgrid\")\n",
        "plt.title(\"Vulerability vs Action\")\n",
        "ax = sns.countplot(x=\"Action\", data=vulanbrity_action)"
      ],
      "execution_count": 16,
      "outputs": [
        {
          "output_type": "display_data",
          "data": {
            "image/png": "[encoded data removed]",
            "text/plain": [
              "<Figure size 432x288 with 1 Axes>"
            ]
          },
          "metadata": {
            "tags": []
          }
        }
      ]
    },
    {
      "cell_type": "markdown",
      "metadata": {
        "id": "7azHjpLp5gsm",
        "colab_type": "text"
      },
      "source": [
        "## 2. spyware vs Action"
      ]
    },
    {
      "cell_type": "code",
      "metadata": {
        "id": "fDP6Ykr_5rSB",
        "colab_type": "code",
        "colab": {}
      },
      "source": [
        "# Reterive the data from dataset to check whether data is equal to spyware or not\n",
        "spyware_action = df_update[df_update[\"Threat/Content Type\"]==\"spyware\"]"
      ],
      "execution_count": 17,
      "outputs": []
    },
    {
      "cell_type": "code",
      "metadata": {
        "id": "iksd-mCB5rWF",
        "colab_type": "code",
        "colab": {
          "base_uri": "https://localhost:8080/",
          "height": 301
        },
        "outputId": "a9795197-5edd-43d2-9a56-38ab72deca03"
      },
      "source": [
        "# Make count plot\n",
        "\n",
        "sns.set(style=\"darkgrid\")\n",
        "plt.title(\"spyware vs Action\")\n",
        "ax = sns.countplot(x=\"Action\", data=spyware_action)"
      ],
      "execution_count": 18,
      "outputs": [
        {
          "output_type": "display_data",
          "data": {
            "image/png": "[encoded data removed]",
            "text/plain": [
              "<Figure size 432x288 with 1 Axes>"
            ]
          },
          "metadata": {
            "tags": []
          }
        }
      ]
    },
    {
      "cell_type": "markdown",
      "metadata": {
        "id": "mK4G_sM155Jp",
        "colab_type": "text"
      },
      "source": [
        "## 3. packet vs Action"
      ]
    },
    {
      "cell_type": "code",
      "metadata": {
        "id": "HoqIxdVD587B",
        "colab_type": "code",
        "colab": {}
      },
      "source": [
        "# Reterive the data from dataset to check whether data is equal to packet or not\n",
        "\n",
        "packet_action = df_update[df_update[\"Threat/Content Type\"]==\"packet\"]"
      ],
      "execution_count": 19,
      "outputs": []
    },
    {
      "cell_type": "code",
      "metadata": {
        "id": "Y4nNPn_b58_l",
        "colab_type": "code",
        "colab": {
          "base_uri": "https://localhost:8080/",
          "height": 301
        },
        "outputId": "c3645b10-684f-4327-a23c-1a1fdc28214d"
      },
      "source": [
        "# Make Count Plot\n",
        "\n",
        "sns.set(style=\"darkgrid\")\n",
        "plt.title(\"packet vs Action\")\n",
        "ax = sns.countplot(x=\"Action\", data=spyware_action)"
      ],
      "execution_count": 20,
      "outputs": [
        {
          "output_type": "display_data",
          "data": {
            "image/png": "[encoded data removed]",
            "text/plain": [
              "<Figure size 432x288 with 1 Axes>"
            ]
          },
          "metadata": {
            "tags": []
          }
        }
      ]
    },
    {
      "cell_type": "markdown",
      "metadata": {
        "id": "4ONPQYZd6P3v",
        "colab_type": "text"
      },
      "source": [
        "## 4. scan vs Action"
      ]
    },
    {
      "cell_type": "code",
      "metadata": {
        "id": "evI6CL7L6TaE",
        "colab_type": "code",
        "colab": {}
      },
      "source": [
        "# Reterive the data from dataset to check whether data is equal to scan or not\n",
        "\n",
        "scan_action = df_update[df_update[\"Threat/Content Type\"]==\"scan\"]"
      ],
      "execution_count": 21,
      "outputs": []
    },
    {
      "cell_type": "code",
      "metadata": {
        "id": "XMhhC7OB6TVa",
        "colab_type": "code",
        "colab": {
          "base_uri": "https://localhost:8080/",
          "height": 301
        },
        "outputId": "ad1f19cc-e7f5-42f7-8d98-639b87700332"
      },
      "source": [
        "# make count plot\n",
        "\n",
        "\n",
        "sns.set(style=\"darkgrid\")\n",
        "plt.title(\" Scan vs Action\")\n",
        "ax = sns.countplot(x=\"Action\", data=scan_action)"
      ],
      "execution_count": 22,
      "outputs": [
        {
          "output_type": "display_data",
          "data": {
            "image/png": "[encoded data removed]",
            "text/plain": [
              "<Figure size 432x288 with 1 Axes>"
            ]
          },
          "metadata": {
            "tags": []
          }
        }
      ]
    },
    {
      "cell_type": "markdown",
      "metadata": {
        "id": "tJxsSPnm6jM5",
        "colab_type": "text"
      },
      "source": [
        "## 5. flood vs Action"
      ]
    },
    {
      "cell_type": "code",
      "metadata": {
        "id": "x4GoYV406mJj",
        "colab_type": "code",
        "colab": {}
      },
      "source": [
        "# Reterive the data from dataset to check whether data is equal to flood or not\n",
        "\n",
        "flood_action = df_update[df_update[\"Threat/Content Type\"]==\"flood\"]"
      ],
      "execution_count": 23,
      "outputs": []
    },
    {
      "cell_type": "code",
      "metadata": {
        "id": "oJNlaRX-6mb6",
        "colab_type": "code",
        "colab": {
          "base_uri": "https://localhost:8080/",
          "height": 301
        },
        "outputId": "dcf2d03a-7134-4e81-9a8d-35d490860107"
      },
      "source": [
        "#Make Count plot\n",
        "\n",
        "\n",
        "sns.set(style=\"darkgrid\")\n",
        "plt.title(\"Flood Vs Action\")\n",
        "ax = sns.countplot(x=\"Action\", data=flood_action)"
      ],
      "execution_count": 24,
      "outputs": [
        {
          "output_type": "display_data",
          "data": {
            "image/png": "[encoded data removed]",
            "text/plain": [
              "<Figure size 432x288 with 1 Axes>"
            ]
          },
          "metadata": {
            "tags": []
          }
        }
      ]
    },
    {
      "cell_type": "markdown",
      "metadata": {
        "id": "044iDAZ_8B9b",
        "colab_type": "text"
      },
      "source": [
        "# Threat/Content Type vs Source Country"
      ]
    },
    {
      "cell_type": "markdown",
      "metadata": {
        "id": "u__55AQq8HvM",
        "colab_type": "text"
      },
      "source": [
        "\n",
        " **Threet/Content Type**\n",
        " have 5 types of unique Variable \n",
        "\n",
        "\n",
        "1.   vulnerability\n",
        "2.   spyware\n",
        "3.  packet\n",
        "4.  scan\n",
        "5.  flood\n",
        "\n",
        "**Source Country**\n",
        " have multiple types of but i select top 10 countries \n",
        "\n",
        "1. United States\n",
        "2. India\n",
        "3. France\n",
        "4. Japan\n",
        "5. China\n",
        "6. Pakistan\n",
        "7. Australia\n",
        "8. Germany\n",
        "9. United Kingdom\n",
        "10. United Arab Emirates\n",
        "\n",
        "\n"
      ]
    },
    {
      "cell_type": "markdown",
      "metadata": {
        "id": "ho3wy1wx8zaq",
        "colab_type": "text"
      },
      "source": [
        "## 1. United States vs Threat/Content Type"
      ]
    },
    {
      "cell_type": "code",
      "metadata": {
        "id": "1B7vJDHS87wL",
        "colab_type": "code",
        "colab": {}
      },
      "source": [
        "# Reterive the data from dataset to check whether data is equal to United States or not\n",
        "\n",
        "us_threat = df_update[df_update[\"Source Country\"]==\"United States\"]"
      ],
      "execution_count": 25,
      "outputs": []
    },
    {
      "cell_type": "code",
      "metadata": {
        "id": "4CH36H0G87sk",
        "colab_type": "code",
        "colab": {
          "base_uri": "https://localhost:8080/",
          "height": 301
        },
        "outputId": "f475ebd9-97aa-4b64-cc60-1934d87ed7d4"
      },
      "source": [
        "#Make Count Plot\n",
        "\n",
        "sns.set(style=\"darkgrid\")\n",
        "plt.title(\"United States vs Threat/Content Type\")\n",
        "ax = sns.countplot(x=\"Threat/Content Type\", data=us_threat)\n"
      ],
      "execution_count": 26,
      "outputs": [
        {
          "output_type": "display_data",
          "data": {
            "image/png": "[encoded data removed]",
            "text/plain": [
              "<Figure size 432x288 with 1 Axes>"
            ]
          },
          "metadata": {
            "tags": []
          }
        }
      ]
    },
    {
      "cell_type": "markdown",
      "metadata": {
        "id": "jS-4InZF99SJ",
        "colab_type": "text"
      },
      "source": [
        "## 2. India vs Threat/Content Type"
      ]
    },
    {
      "cell_type": "code",
      "metadata": {
        "id": "Mdx7Kxun-JP4",
        "colab_type": "code",
        "colab": {}
      },
      "source": [
        "# Reterive the data from dataset to check whether data is equal to india or not\n",
        "\n",
        "\n",
        "india_threat = df_update[df_update[\"Source Country\"]==\"India\"]"
      ],
      "execution_count": 27,
      "outputs": []
    },
    {
      "cell_type": "code",
      "metadata": {
        "id": "3P6fRG4D-OUp",
        "colab_type": "code",
        "colab": {
          "base_uri": "https://localhost:8080/",
          "height": 301
        },
        "outputId": "4d5c0edd-ba66-4643-8318-e71e6146df02"
      },
      "source": [
        "#Make Count plot\n",
        "\n",
        "sns.set(style=\"darkgrid\")\n",
        "plt.title(\"India vs Threat/Content Type\")\n",
        "ax = sns.countplot(x=\"Threat/Content Type\", data=india_threat)\n"
      ],
      "execution_count": 28,
      "outputs": [
        {
          "output_type": "display_data",
          "data": {
            "image/png": "[encoded data removed]",
            "text/plain": [
              "<Figure size 432x288 with 1 Axes>"
            ]
          },
          "metadata": {
            "tags": []
          }
        }
      ]
    },
    {
      "cell_type": "markdown",
      "metadata": {
        "id": "9l0KW_iY-Yta",
        "colab_type": "text"
      },
      "source": [
        "## 3. France vs Threat/Content Type"
      ]
    },
    {
      "cell_type": "code",
      "metadata": {
        "id": "bqBPTPk8-fxt",
        "colab_type": "code",
        "colab": {}
      },
      "source": [
        "# Reterive the data from dataset to check whether data is equal to France or not\n",
        "\n",
        "\n",
        "france_threat = df_update[df_update[\"Source Country\"]==\"France\"]"
      ],
      "execution_count": 29,
      "outputs": []
    },
    {
      "cell_type": "code",
      "metadata": {
        "id": "HwR-WeJn-fst",
        "colab_type": "code",
        "colab": {
          "base_uri": "https://localhost:8080/",
          "height": 301
        },
        "outputId": "f3434dbe-ea9f-4eb8-d3f9-c01051e151eb"
      },
      "source": [
        "#Make Count Plot\n",
        "\n",
        "sns.set(style=\"darkgrid\")\n",
        "plt.title(\"France vs Threat/Content Type\")\n",
        "ax = sns.countplot(x=\"Threat/Content Type\", data=france_threat)\n"
      ],
      "execution_count": 30,
      "outputs": [
        {
          "output_type": "display_data",
          "data": {
            "image/png": "[encoded data removed]",
            "text/plain": [
              "<Figure size 432x288 with 1 Axes>"
            ]
          },
          "metadata": {
            "tags": []
          }
        }
      ]
    },
    {
      "cell_type": "markdown",
      "metadata": {
        "id": "-6YVOlJ_-yWq",
        "colab_type": "text"
      },
      "source": [
        "## 4. Japan vs Threat/Content Type"
      ]
    },
    {
      "cell_type": "code",
      "metadata": {
        "id": "70l-hGFn-7v5",
        "colab_type": "code",
        "colab": {}
      },
      "source": [
        "# Reterive the data from dataset to check whether data is equal to Japan or not\n",
        "\n",
        "\n",
        "japan_threat = df_update[df_update[\"Source Country\"]==\"Japan\"]"
      ],
      "execution_count": 31,
      "outputs": []
    },
    {
      "cell_type": "code",
      "metadata": {
        "id": "tSAftJYi-77z",
        "colab_type": "code",
        "colab": {
          "base_uri": "https://localhost:8080/",
          "height": 301
        },
        "outputId": "1fc9e260-32cb-46c4-ac04-4ca441ee01ee"
      },
      "source": [
        "#Make Count Plot\n",
        "\n",
        "sns.set(style=\"darkgrid\")\n",
        "plt.title(\"Japan vs Threat/Content Type\")\n",
        "ax = sns.countplot(x=\"Threat/Content Type\", data=japan_threat)\n"
      ],
      "execution_count": 32,
      "outputs": [
        {
          "output_type": "display_data",
          "data": {
            "image/png": "[encoded data removed]",
            "text/plain": [
              "<Figure size 432x288 with 1 Axes>"
            ]
          },
          "metadata": {
            "tags": []
          }
        }
      ]
    },
    {
      "cell_type": "markdown",
      "metadata": {
        "id": "7PkxCWwC_S4O",
        "colab_type": "text"
      },
      "source": [
        "## 5. China vs Threat/Content Type"
      ]
    },
    {
      "cell_type": "code",
      "metadata": {
        "id": "HLQl5qww_bN3",
        "colab_type": "code",
        "colab": {}
      },
      "source": [
        "# Reterive the data from dataset to check whether data is equal to China or not\n",
        "\n",
        "\n",
        "china_threat = df_update[df_update[\"Source Country\"]==\"China\"]"
      ],
      "execution_count": 33,
      "outputs": []
    },
    {
      "cell_type": "code",
      "metadata": {
        "id": "57fpI7lA_bJM",
        "colab_type": "code",
        "colab": {
          "base_uri": "https://localhost:8080/",
          "height": 301
        },
        "outputId": "4c6181f2-c829-4a69-ef08-e3afc2619f56"
      },
      "source": [
        "#Make Count Plot\n",
        "\n",
        "sns.set(style=\"darkgrid\")\n",
        "plt.title(\"China vs Threat/Content Type\")\n",
        "ax = sns.countplot(x=\"Threat/Content Type\", data=china_threat)\n"
      ],
      "execution_count": 34,
      "outputs": [
        {
          "output_type": "display_data",
          "data": {
            "image/png": "[encoded data removed]",
            "text/plain": [
              "<Figure size 432x288 with 1 Axes>"
            ]
          },
          "metadata": {
            "tags": []
          }
        }
      ]
    },
    {
      "cell_type": "markdown",
      "metadata": {
        "id": "ENAh_4XY_nKQ",
        "colab_type": "text"
      },
      "source": [
        "## 6. Pakistan vs Threat/Content Type"
      ]
    },
    {
      "cell_type": "code",
      "metadata": {
        "id": "wWy0WJbH_p0G",
        "colab_type": "code",
        "colab": {}
      },
      "source": [
        "# Reterive the data from dataset to check whether data is equal to Pakistan or not\n",
        "\n",
        "paki_threat = df_update[df_update[\"Source Country\"]==\"Pakistan\"]"
      ],
      "execution_count": 35,
      "outputs": []
    },
    {
      "cell_type": "code",
      "metadata": {
        "id": "6n5C5M_W_pvQ",
        "colab_type": "code",
        "colab": {
          "base_uri": "https://localhost:8080/",
          "height": 301
        },
        "outputId": "db6752ae-7dc3-4328-dd74-1029749970bc"
      },
      "source": [
        "#Make count plot\n",
        "\n",
        "sns.set(style=\"darkgrid\")\n",
        "plt.title(\"Pakistan vs Threat/Content Type\")\n",
        "ax = sns.countplot(x=\"Threat/Content Type\", data=paki_threat)\n"
      ],
      "execution_count": 36,
      "outputs": [
        {
          "output_type": "display_data",
          "data": {
            "image/png": "[encoded data removed]",
            "text/plain": [
              "<Figure size 432x288 with 1 Axes>"
            ]
          },
          "metadata": {
            "tags": []
          }
        }
      ]
    },
    {
      "cell_type": "markdown",
      "metadata": {
        "id": "jxbsuCz0_1yG",
        "colab_type": "text"
      },
      "source": [
        "## 7. Australia vs Threat/Content Type"
      ]
    },
    {
      "cell_type": "code",
      "metadata": {
        "id": "u7rnE9du_4hV",
        "colab_type": "code",
        "colab": {}
      },
      "source": [
        "# Reterive the data from dataset to check whether data is equal to Australia or not\n",
        "\n",
        "\n",
        "aust_threat = df_update[df_update[\"Source Country\"]==\"Australia\"]"
      ],
      "execution_count": 37,
      "outputs": []
    },
    {
      "cell_type": "code",
      "metadata": {
        "id": "ipPFgvRK_4b6",
        "colab_type": "code",
        "colab": {
          "base_uri": "https://localhost:8080/",
          "height": 301
        },
        "outputId": "b847f50d-eef3-4599-d8b7-fb2874777b97"
      },
      "source": [
        "#Make Count plot\n",
        "\n",
        "sns.set(style=\"darkgrid\")\n",
        "plt.title(\"Australia vs Threat/Content Type\")\n",
        "ax = sns.countplot(x=\"Threat/Content Type\", data=aust_threat)\n"
      ],
      "execution_count": 38,
      "outputs": [
        {
          "output_type": "display_data",
          "data": {
            "image/png": "[encoded data removed]",
            "text/plain": [
              "<Figure size 432x288 with 1 Axes>"
            ]
          },
          "metadata": {
            "tags": []
          }
        }
      ]
    },
    {
      "cell_type": "markdown",
      "metadata": {
        "id": "4GK699ErADj7",
        "colab_type": "text"
      },
      "source": [
        "## 8. Germany vs Threat/Content Type"
      ]
    },
    {
      "cell_type": "code",
      "metadata": {
        "id": "7MNzwu5TAJ3I",
        "colab_type": "code",
        "colab": {}
      },
      "source": [
        "# Reterive the data from dataset to check whether data is equal to Germany or not\n",
        "\n",
        "german_threat = df_update[df_update[\"Source Country\"]==\"Germany\"]"
      ],
      "execution_count": 39,
      "outputs": []
    },
    {
      "cell_type": "code",
      "metadata": {
        "id": "4eWSBCyFAJyC",
        "colab_type": "code",
        "colab": {
          "base_uri": "https://localhost:8080/",
          "height": 301
        },
        "outputId": "f1c64880-4052-46ce-9ba7-7550e8952216"
      },
      "source": [
        "#Make Count plot\n",
        "\n",
        "sns.set(style=\"darkgrid\")\n",
        "plt.title(\"Germany vs Threat/Content Type\")\n",
        "ax = sns.countplot(x=\"Threat/Content Type\", data=german_threat)\n"
      ],
      "execution_count": 40,
      "outputs": [
        {
          "output_type": "display_data",
          "data": {
            "image/png": "[encoded data removed]",
            "text/plain": [
              "<Figure size 432x288 with 1 Axes>"
            ]
          },
          "metadata": {
            "tags": []
          }
        }
      ]
    },
    {
      "cell_type": "markdown",
      "metadata": {
        "id": "7-uds88xAXDx",
        "colab_type": "text"
      },
      "source": [
        "## 9. United Kingdom vs Threat/Content Type"
      ]
    },
    {
      "cell_type": "code",
      "metadata": {
        "id": "wAI2jlizAdf5",
        "colab_type": "code",
        "colab": {}
      },
      "source": [
        "# Reterive the data from dataset to check whether data is equal to Uk or not\n",
        "\n",
        "uk_threat = df_update[df_update[\"Source Country\"]==\"United Kingdom\"]"
      ],
      "execution_count": 41,
      "outputs": []
    },
    {
      "cell_type": "code",
      "metadata": {
        "id": "btQGThmdAda1",
        "colab_type": "code",
        "colab": {
          "base_uri": "https://localhost:8080/",
          "height": 301
        },
        "outputId": "b02d1e9f-de58-4e21-b288-dbb93a17523b"
      },
      "source": [
        "#Make Count Plot\n",
        "\n",
        "sns.set(style=\"darkgrid\")\n",
        "plt.title(\"United Kingdom vs Threat/Content Type\")\n",
        "ax = sns.countplot(x=\"Threat/Content Type\", data=uk_threat)\n"
      ],
      "execution_count": 42,
      "outputs": [
        {
          "output_type": "display_data",
          "data": {
            "image/png": "[encoded data removed]",
            "text/plain": [
              "<Figure size 432x288 with 1 Axes>"
            ]
          },
          "metadata": {
            "tags": []
          }
        }
      ]
    },
    {
      "cell_type": "markdown",
      "metadata": {
        "id": "B-V7MnkeAuMD",
        "colab_type": "text"
      },
      "source": [
        "## 10. United Arab Emirates vs Threat/Content Type"
      ]
    },
    {
      "cell_type": "code",
      "metadata": {
        "id": "CqTr5H1MAyLD",
        "colab_type": "code",
        "colab": {}
      },
      "source": [
        "# Reterive the data from dataset to check whether data is equal to UAE or not\n",
        "\n",
        "uae_threat = df_update[df_update[\"Source Country\"]==\"United Arab Emirates\"]"
      ],
      "execution_count": 43,
      "outputs": []
    },
    {
      "cell_type": "code",
      "metadata": {
        "id": "AfCX2MTBAx-L",
        "colab_type": "code",
        "colab": {
          "base_uri": "https://localhost:8080/",
          "height": 301
        },
        "outputId": "14d9f370-434c-4434-9dc4-c1877811c527"
      },
      "source": [
        "#Count Plot\n",
        "\n",
        "sns.set(style=\"darkgrid\")\n",
        "plt.title(\"United Arab Emirates vs Threat/Content Type\")\n",
        "ax = sns.countplot(x=\"Threat/Content Type\", data=uae_threat)\n"
      ],
      "execution_count": 44,
      "outputs": [
        {
          "output_type": "display_data",
          "data": {
            "image/png": "[encoded data removed]",
            "text/plain": [
              "<Figure size 432x288 with 1 Axes>"
            ]
          },
          "metadata": {
            "tags": []
          }
        }
      ]
    },
    {
      "cell_type": "markdown",
      "metadata": {
        "id": "ItS27xepV33O",
        "colab_type": "text"
      },
      "source": [
        "# Nginx_Log Dataset"
      ]
    },
    {
      "cell_type": "code",
      "metadata": {
        "id": "bIJlvcKJ2O9w",
        "colab_type": "code",
        "colab": {
          "base_uri": "https://localhost:8080/",
          "height": 71
        },
        "outputId": "d90c784c-ab35-4ed8-e4af-eb46bd42f82e"
      },
      "source": [
        "n_Data = pd.read_csv(\"/content/content/My Drive/Threat Data/nginx_logs.csv\")"
      ],
      "execution_count": 45,
      "outputs": [
        {
          "output_type": "stream",
          "text": [
            "/usr/local/lib/python3.6/dist-packages/IPython/core/interactiveshell.py:2718: DtypeWarning: Columns (9) have mixed types.Specify dtype option on import or set low_memory=False.\n",
            "  interactivity=interactivity, compiler=compiler, result=result)\n"
          ],
          "name": "stderr"
        }
      ]
    },
    {
      "cell_type": "code",
      "metadata": {
        "id": "rjEbZ2QVWGeU",
        "colab_type": "code",
        "colab": {
          "base_uri": "https://localhost:8080/",
          "height": 445
        },
        "outputId": "727c827c-70c6-47b8-e4c0-802ae41e6700"
      },
      "source": [
        "n_Data.head()"
      ],
      "execution_count": 46,
      "outputs": [
        {
          "output_type": "execute_result",
          "data": {
            "text/html": [
              "<div>\n",
              "<style scoped>\n",
              "    .dataframe tbody tr th:only-of-type {\n",
              "        vertical-align: middle;\n",
              "    }\n",
              "\n",
              "    .dataframe tbody tr th {\n",
              "        vertical-align: top;\n",
              "    }\n",
              "\n",
              "    .dataframe thead th {\n",
              "        text-align: right;\n",
              "    }\n",
              "</style>\n",
              "<table border=\"1\" class=\"dataframe\">\n",
              "  <thead>\n",
              "    <tr style=\"text-align: right;\">\n",
              "      <th></th>\n",
              "      <th>Host</th>\n",
              "      <th>Date</th>\n",
              "      <th>Page/File</th>\n",
              "      <th>URL parameter</th>\n",
              "      <th>Bandwidth</th>\n",
              "      <th>Response Code</th>\n",
              "      <th>Request Method</th>\n",
              "      <th>Referrers</th>\n",
              "      <th>User Agent</th>\n",
              "      <th>User</th>\n",
              "      <th>Virtual Domain</th>\n",
              "      <th>Cookie</th>\n",
              "    </tr>\n",
              "  </thead>\n",
              "  <tbody>\n",
              "    <tr>\n",
              "      <th>0</th>\n",
              "      <td>172.1.5.56 (United States)</td>\n",
              "      <td>2020-06-11 10:00:33.000</td>\n",
              "      <td>/</td>\n",
              "      <td>NaN</td>\n",
              "      <td>NaN</td>\n",
              "      <td>200 - OK</td>\n",
              "      <td>HEAD</td>\n",
              "      <td>No Referrer</td>\n",
              "      <td>Mozilla/5.0 (X11; Linux x86_64) AppleWebKit/53...</td>\n",
              "      <td>NaN</td>\n",
              "      <td>NaN</td>\n",
              "      <td>NaN</td>\n",
              "    </tr>\n",
              "    <tr>\n",
              "      <th>1</th>\n",
              "      <td>172.1.5.56 (United States)</td>\n",
              "      <td>2020-06-11 10:01:53.000</td>\n",
              "      <td>/banner/ajax/load/</td>\n",
              "      <td>requesting_page_url=https%3A%2F%2Ffreestylelib...</td>\n",
              "      <td>94</td>\n",
              "      <td>200 - OK</td>\n",
              "      <td>GET</td>\n",
              "      <td>https://freestylelibre.com.sg/freestyle-libre-...</td>\n",
              "      <td>Mozilla/5.0 (Macintosh; Intel Mac OS X 10.15; ...</td>\n",
              "      <td>NaN</td>\n",
              "      <td>NaN</td>\n",
              "      <td>NaN</td>\n",
              "    </tr>\n",
              "    <tr>\n",
              "      <th>2</th>\n",
              "      <td>172.1.6.5 (United States)</td>\n",
              "      <td>2020-06-11 10:02:21.000</td>\n",
              "      <td>/products/freestyle-libre-sensor.html</td>\n",
              "      <td>NaN</td>\n",
              "      <td>32.81 KB</td>\n",
              "      <td>200 - OK</td>\n",
              "      <td>GET</td>\n",
              "      <td>No Referrer</td>\n",
              "      <td>Mozilla/5.0 (Macintosh; Intel Mac OS X 10_15_4...</td>\n",
              "      <td>NaN</td>\n",
              "      <td>NaN</td>\n",
              "      <td>NaN</td>\n",
              "    </tr>\n",
              "    <tr>\n",
              "      <th>3</th>\n",
              "      <td>172.1.5.56 (United States)</td>\n",
              "      <td>2020-06-11 10:02:54.000</td>\n",
              "      <td>/</td>\n",
              "      <td>NaN</td>\n",
              "      <td>NaN</td>\n",
              "      <td>200 - OK</td>\n",
              "      <td>HEAD</td>\n",
              "      <td>No Referrer</td>\n",
              "      <td>Mozilla/5.0 (X11; Linux x86_64) AppleWebKit/53...</td>\n",
              "      <td>NaN</td>\n",
              "      <td>NaN</td>\n",
              "      <td>NaN</td>\n",
              "    </tr>\n",
              "    <tr>\n",
              "      <th>4</th>\n",
              "      <td>172.1.6.5 (United States)</td>\n",
              "      <td>2020-06-11 10:03:45.000</td>\n",
              "      <td>/</td>\n",
              "      <td>NaN</td>\n",
              "      <td>NaN</td>\n",
              "      <td>200 - OK</td>\n",
              "      <td>HEAD</td>\n",
              "      <td>No Referrer</td>\n",
              "      <td>Mozilla/5.0 (X11; Linux x86_64) AppleWebKit/53...</td>\n",
              "      <td>NaN</td>\n",
              "      <td>NaN</td>\n",
              "      <td>NaN</td>\n",
              "    </tr>\n",
              "  </tbody>\n",
              "</table>\n",
              "</div>"
            ],
            "text/plain": [
              "                         Host                     Date  ... Virtual Domain Cookie\n",
              "0  172.1.5.56 (United States)  2020-06-11 10:00:33.000  ...            NaN    NaN\n",
              "1  172.1.5.56 (United States)  2020-06-11 10:01:53.000  ...            NaN    NaN\n",
              "2   172.1.6.5 (United States)  2020-06-11 10:02:21.000  ...            NaN    NaN\n",
              "3  172.1.5.56 (United States)  2020-06-11 10:02:54.000  ...            NaN    NaN\n",
              "4   172.1.6.5 (United States)  2020-06-11 10:03:45.000  ...            NaN    NaN\n",
              "\n",
              "[5 rows x 12 columns]"
            ]
          },
          "metadata": {
            "tags": []
          },
          "execution_count": 46
        }
      ]
    },
    {
      "cell_type": "markdown",
      "metadata": {
        "id": "PctWl1IuWQzX",
        "colab_type": "text"
      },
      "source": [
        "## Unqiue User Agent"
      ]
    },
    {
      "cell_type": "code",
      "metadata": {
        "id": "0B1RVCZvWJoi",
        "colab_type": "code",
        "colab": {}
      },
      "source": [
        "n_Data.sort_values(\"User Agent\", inplace = True)"
      ],
      "execution_count": 61,
      "outputs": []
    },
    {
      "cell_type": "code",
      "metadata": {
        "id": "8U-kaa-eZXhk",
        "colab_type": "code",
        "colab": {}
      },
      "source": [
        "n_Data.drop_duplicates(subset =\"User Agent\", \n",
        "                     keep = False, inplace = True)"
      ],
      "execution_count": 62,
      "outputs": []
    },
    {
      "cell_type": "markdown",
      "metadata": {
        "id": "xN2KzKGiZysj",
        "colab_type": "text"
      },
      "source": [
        "## Respond = 200- Ok or Method = PUT"
      ]
    },
    {
      "cell_type": "code",
      "metadata": {
        "id": "T66kGojQWm0j",
        "colab_type": "code",
        "colab": {}
      },
      "source": [
        "n_Data_update = n_Data[(n_Data[\"Response Code\"]!=\"200 - OK\") | (n_Data[\"Request Method\"]==\"PUT\")]"
      ],
      "execution_count": 67,
      "outputs": []
    },
    {
      "cell_type": "markdown",
      "metadata": {
        "id": "nGTKtE7ObwUC",
        "colab_type": "text"
      },
      "source": [
        "# Compare Time Column With Nginx_Log and Paloalto"
      ]
    },
    {
      "cell_type": "code",
      "metadata": {
        "id": "23WvpsJugTLO",
        "colab_type": "code",
        "colab": {
          "base_uri": "https://localhost:8080/",
          "height": 445
        },
        "outputId": "778d115e-0687-4f73-bbb2-69c9fc398e32"
      },
      "source": [
        "df.head()"
      ],
      "execution_count": 132,
      "outputs": [
        {
          "output_type": "execute_result",
          "data": {
            "text/html": [
              "<div>\n",
              "<style scoped>\n",
              "    .dataframe tbody tr th:only-of-type {\n",
              "        vertical-align: middle;\n",
              "    }\n",
              "\n",
              "    .dataframe tbody tr th {\n",
              "        vertical-align: top;\n",
              "    }\n",
              "\n",
              "    .dataframe thead th {\n",
              "        text-align: right;\n",
              "    }\n",
              "</style>\n",
              "<table border=\"1\" class=\"dataframe\">\n",
              "  <thead>\n",
              "    <tr style=\"text-align: right;\">\n",
              "      <th></th>\n",
              "      <th>Domain</th>\n",
              "      <th>Receive Time</th>\n",
              "      <th>Serial #</th>\n",
              "      <th>Type</th>\n",
              "      <th>Threat/Content Type</th>\n",
              "      <th>Config Version</th>\n",
              "      <th>Generate Time</th>\n",
              "      <th>Source address</th>\n",
              "      <th>Destination address</th>\n",
              "      <th>NAT Source IP</th>\n",
              "      <th>NAT Destination IP</th>\n",
              "      <th>Rule</th>\n",
              "      <th>Source User</th>\n",
              "      <th>Destination User</th>\n",
              "      <th>Application</th>\n",
              "      <th>Virtual System</th>\n",
              "      <th>Source Zone</th>\n",
              "      <th>Destination Zone</th>\n",
              "      <th>Inbound Interface</th>\n",
              "      <th>Outbound Interface</th>\n",
              "      <th>Log Action</th>\n",
              "      <th>Time Logged</th>\n",
              "      <th>Session ID</th>\n",
              "      <th>Repeat Count</th>\n",
              "      <th>Source Port</th>\n",
              "      <th>Destination Port</th>\n",
              "      <th>NAT Source Port</th>\n",
              "      <th>NAT Destination Port</th>\n",
              "      <th>Flags</th>\n",
              "      <th>IP Protocol</th>\n",
              "      <th>Action</th>\n",
              "      <th>URL/Filename</th>\n",
              "      <th>Threat/Content Name</th>\n",
              "      <th>Category</th>\n",
              "      <th>Severity</th>\n",
              "      <th>Direction</th>\n",
              "      <th>Sequence Number</th>\n",
              "      <th>Action Flags</th>\n",
              "      <th>Source Country</th>\n",
              "      <th>Destination Country</th>\n",
              "      <th>cpadding</th>\n",
              "      <th>contenttype</th>\n",
              "      <th>pcap_id</th>\n",
              "      <th>filedigest</th>\n",
              "      <th>cloud</th>\n",
              "      <th>url_idx</th>\n",
              "      <th>user_agent</th>\n",
              "      <th>filetype</th>\n",
              "      <th>xff</th>\n",
              "      <th>referer</th>\n",
              "      <th>sender</th>\n",
              "      <th>subject</th>\n",
              "      <th>recipient</th>\n",
              "      <th>reportid</th>\n",
              "      <th>DG Hierarchy Level 1</th>\n",
              "      <th>DG Hierarchy Level 2</th>\n",
              "      <th>DG Hierarchy Level 3</th>\n",
              "      <th>DG Hierarchy Level 4</th>\n",
              "      <th>Virtual System Name</th>\n",
              "      <th>Device Name</th>\n",
              "      <th>file_url</th>\n",
              "      <th>Source VM UUID</th>\n",
              "      <th>Destination VM UUID</th>\n",
              "      <th>http_method</th>\n",
              "      <th>Tunnel ID/IMSI</th>\n",
              "      <th>Monitor Tag/IMEI</th>\n",
              "      <th>Parent Session ID</th>\n",
              "      <th>Parent Session Start Time</th>\n",
              "      <th>Tunnel</th>\n",
              "      <th>thr_category</th>\n",
              "      <th>contentver</th>\n",
              "      <th>sig_flags</th>\n",
              "      <th>SCTP Association ID</th>\n",
              "      <th>Payload Protocol ID</th>\n",
              "      <th>http_headers</th>\n",
              "      <th>URL Category List</th>\n",
              "      <th>UUID for rule</th>\n",
              "      <th>HTTP/2 Connection</th>\n",
              "      <th>dynusergroup_name</th>\n",
              "    </tr>\n",
              "  </thead>\n",
              "  <tbody>\n",
              "    <tr>\n",
              "      <th>0</th>\n",
              "      <td>1</td>\n",
              "      <td>2020-05-29 05:12:12.000</td>\n",
              "      <td>7.2550000573e+012</td>\n",
              "      <td>THREAT</td>\n",
              "      <td>vulnerability</td>\n",
              "      <td>2049</td>\n",
              "      <td>43980.216806</td>\n",
              "      <td>23.94.94.0/24</td>\n",
              "      <td>172.19.30.0/24</td>\n",
              "      <td>23.94.94.0/24</td>\n",
              "      <td>172.19.32.0/24</td>\n",
              "      <td>O2I_Prod_Server_Access</td>\n",
              "      <td>NaN</td>\n",
              "      <td>NaN</td>\n",
              "      <td>web-browsing</td>\n",
              "      <td>vsys1</td>\n",
              "      <td>Internet_Zone</td>\n",
              "      <td>Prod_Zone</td>\n",
              "      <td>ethernet1/1</td>\n",
              "      <td>ethernet1/2</td>\n",
              "      <td>Syslog-Profile</td>\n",
              "      <td>2020-05-29 05:12:12.000</td>\n",
              "      <td>405508</td>\n",
              "      <td>1</td>\n",
              "      <td>58603</td>\n",
              "      <td>80</td>\n",
              "      <td>58603</td>\n",
              "      <td>80</td>\n",
              "      <td>0x402000</td>\n",
              "      <td>tcp</td>\n",
              "      <td>alert</td>\n",
              "      <td>NaN</td>\n",
              "      <td>HTTP SQL Injection Attempt(30514)</td>\n",
              "      <td>health-and-medicine</td>\n",
              "      <td>medium</td>\n",
              "      <td>client-to-server</td>\n",
              "      <td>761214</td>\n",
              "      <td>0x0</td>\n",
              "      <td>United States</td>\n",
              "      <td>172.16.0.0-172.31.255.255</td>\n",
              "      <td>0</td>\n",
              "      <td>NaN</td>\n",
              "      <td>0</td>\n",
              "      <td>NaN</td>\n",
              "      <td>NaN</td>\n",
              "      <td>1</td>\n",
              "      <td>NaN</td>\n",
              "      <td>NaN</td>\n",
              "      <td>NaN</td>\n",
              "      <td>NaN</td>\n",
              "      <td>NaN</td>\n",
              "      <td>NaN</td>\n",
              "      <td>NaN</td>\n",
              "      <td>0</td>\n",
              "      <td>0</td>\n",
              "      <td>0</td>\n",
              "      <td>0</td>\n",
              "      <td>0</td>\n",
              "      <td>ADC-FW</td>\n",
              "      <td>Abbott-ADC-FW</td>\n",
              "      <td>NaN</td>\n",
              "      <td>NaN</td>\n",
              "      <td>NaN</td>\n",
              "      <td>NaN</td>\n",
              "      <td>0</td>\n",
              "      <td>NaN</td>\n",
              "      <td>0</td>\n",
              "      <td>NaN</td>\n",
              "      <td>NaN</td>\n",
              "      <td>sql-injection</td>\n",
              "      <td>AppThreat-8277-6107</td>\n",
              "      <td>0x0</td>\n",
              "      <td>0</td>\n",
              "      <td>4294967295</td>\n",
              "      <td>NaN</td>\n",
              "      <td>NaN</td>\n",
              "      <td>NaN</td>\n",
              "      <td>NaN</td>\n",
              "      <td>NaN</td>\n",
              "    </tr>\n",
              "    <tr>\n",
              "      <th>1</th>\n",
              "      <td>1</td>\n",
              "      <td>2020-05-29 05:12:06.000</td>\n",
              "      <td>7.2550000573e+012</td>\n",
              "      <td>THREAT</td>\n",
              "      <td>vulnerability</td>\n",
              "      <td>2049</td>\n",
              "      <td>43980.216736</td>\n",
              "      <td>23.94.94.0/24</td>\n",
              "      <td>172.19.30.0/24</td>\n",
              "      <td>23.94.94.0/24</td>\n",
              "      <td>172.19.32.0/24</td>\n",
              "      <td>O2I_Prod_Server_Access</td>\n",
              "      <td>NaN</td>\n",
              "      <td>NaN</td>\n",
              "      <td>web-browsing</td>\n",
              "      <td>vsys1</td>\n",
              "      <td>Internet_Zone</td>\n",
              "      <td>Prod_Zone</td>\n",
              "      <td>ethernet1/1</td>\n",
              "      <td>ethernet1/2</td>\n",
              "      <td>Syslog-Profile</td>\n",
              "      <td>2020-05-29 05:12:06.000</td>\n",
              "      <td>381204</td>\n",
              "      <td>3</td>\n",
              "      <td>58458</td>\n",
              "      <td>80</td>\n",
              "      <td>58458</td>\n",
              "      <td>80</td>\n",
              "      <td>0x402000</td>\n",
              "      <td>tcp</td>\n",
              "      <td>alert</td>\n",
              "      <td>NaN</td>\n",
              "      <td>HTTP SQL Injection Attempt(30514)</td>\n",
              "      <td>health-and-medicine</td>\n",
              "      <td>medium</td>\n",
              "      <td>client-to-server</td>\n",
              "      <td>761213</td>\n",
              "      <td>0x0</td>\n",
              "      <td>United States</td>\n",
              "      <td>172.16.0.0-172.31.255.255</td>\n",
              "      <td>0</td>\n",
              "      <td>NaN</td>\n",
              "      <td>0</td>\n",
              "      <td>NaN</td>\n",
              "      <td>NaN</td>\n",
              "      <td>1</td>\n",
              "      <td>NaN</td>\n",
              "      <td>NaN</td>\n",
              "      <td>NaN</td>\n",
              "      <td>NaN</td>\n",
              "      <td>NaN</td>\n",
              "      <td>NaN</td>\n",
              "      <td>NaN</td>\n",
              "      <td>0</td>\n",
              "      <td>0</td>\n",
              "      <td>0</td>\n",
              "      <td>0</td>\n",
              "      <td>0</td>\n",
              "      <td>ADC-FW</td>\n",
              "      <td>Abbott-ADC-FW</td>\n",
              "      <td>NaN</td>\n",
              "      <td>NaN</td>\n",
              "      <td>NaN</td>\n",
              "      <td>NaN</td>\n",
              "      <td>0</td>\n",
              "      <td>NaN</td>\n",
              "      <td>0</td>\n",
              "      <td>NaN</td>\n",
              "      <td>NaN</td>\n",
              "      <td>sql-injection</td>\n",
              "      <td>AppThreat-8277-6107</td>\n",
              "      <td>0x0</td>\n",
              "      <td>0</td>\n",
              "      <td>4294967295</td>\n",
              "      <td>NaN</td>\n",
              "      <td>NaN</td>\n",
              "      <td>NaN</td>\n",
              "      <td>NaN</td>\n",
              "      <td>NaN</td>\n",
              "    </tr>\n",
              "    <tr>\n",
              "      <th>2</th>\n",
              "      <td>1</td>\n",
              "      <td>2020-05-29 05:11:59.000</td>\n",
              "      <td>7.2550000573e+012</td>\n",
              "      <td>THREAT</td>\n",
              "      <td>vulnerability</td>\n",
              "      <td>2049</td>\n",
              "      <td>43980.216655</td>\n",
              "      <td>23.94.94.0/24</td>\n",
              "      <td>172.19.30.0/24</td>\n",
              "      <td>23.94.94.0/24</td>\n",
              "      <td>172.19.32.0/24</td>\n",
              "      <td>O2I_Prod_Server_Access</td>\n",
              "      <td>NaN</td>\n",
              "      <td>NaN</td>\n",
              "      <td>web-browsing</td>\n",
              "      <td>vsys1</td>\n",
              "      <td>Internet_Zone</td>\n",
              "      <td>Prod_Zone</td>\n",
              "      <td>ethernet1/1</td>\n",
              "      <td>ethernet1/2</td>\n",
              "      <td>Syslog-Profile</td>\n",
              "      <td>2020-05-29 05:11:59.000</td>\n",
              "      <td>406647</td>\n",
              "      <td>3</td>\n",
              "      <td>58321</td>\n",
              "      <td>80</td>\n",
              "      <td>58321</td>\n",
              "      <td>80</td>\n",
              "      <td>0x402000</td>\n",
              "      <td>tcp</td>\n",
              "      <td>alert</td>\n",
              "      <td>NaN</td>\n",
              "      <td>HTTP SQL Injection Attempt(30514)</td>\n",
              "      <td>health-and-medicine</td>\n",
              "      <td>medium</td>\n",
              "      <td>client-to-server</td>\n",
              "      <td>761212</td>\n",
              "      <td>0x0</td>\n",
              "      <td>United States</td>\n",
              "      <td>172.16.0.0-172.31.255.255</td>\n",
              "      <td>0</td>\n",
              "      <td>NaN</td>\n",
              "      <td>0</td>\n",
              "      <td>NaN</td>\n",
              "      <td>NaN</td>\n",
              "      <td>1</td>\n",
              "      <td>NaN</td>\n",
              "      <td>NaN</td>\n",
              "      <td>NaN</td>\n",
              "      <td>NaN</td>\n",
              "      <td>NaN</td>\n",
              "      <td>NaN</td>\n",
              "      <td>NaN</td>\n",
              "      <td>0</td>\n",
              "      <td>0</td>\n",
              "      <td>0</td>\n",
              "      <td>0</td>\n",
              "      <td>0</td>\n",
              "      <td>ADC-FW</td>\n",
              "      <td>Abbott-ADC-FW</td>\n",
              "      <td>NaN</td>\n",
              "      <td>NaN</td>\n",
              "      <td>NaN</td>\n",
              "      <td>NaN</td>\n",
              "      <td>0</td>\n",
              "      <td>NaN</td>\n",
              "      <td>0</td>\n",
              "      <td>NaN</td>\n",
              "      <td>NaN</td>\n",
              "      <td>sql-injection</td>\n",
              "      <td>AppThreat-8277-6107</td>\n",
              "      <td>0x0</td>\n",
              "      <td>0</td>\n",
              "      <td>4294967295</td>\n",
              "      <td>NaN</td>\n",
              "      <td>NaN</td>\n",
              "      <td>NaN</td>\n",
              "      <td>NaN</td>\n",
              "      <td>NaN</td>\n",
              "    </tr>\n",
              "    <tr>\n",
              "      <th>3</th>\n",
              "      <td>1</td>\n",
              "      <td>2020-05-29 05:11:53.000</td>\n",
              "      <td>7.2550000573e+012</td>\n",
              "      <td>THREAT</td>\n",
              "      <td>vulnerability</td>\n",
              "      <td>2049</td>\n",
              "      <td>43980.216586</td>\n",
              "      <td>23.94.94.0/24</td>\n",
              "      <td>172.19.30.0/24</td>\n",
              "      <td>23.94.94.0/24</td>\n",
              "      <td>172.19.32.0/24</td>\n",
              "      <td>O2I_Prod_Server_Access</td>\n",
              "      <td>NaN</td>\n",
              "      <td>NaN</td>\n",
              "      <td>web-browsing</td>\n",
              "      <td>vsys1</td>\n",
              "      <td>Internet_Zone</td>\n",
              "      <td>Prod_Zone</td>\n",
              "      <td>ethernet1/1</td>\n",
              "      <td>ethernet1/2</td>\n",
              "      <td>Syslog-Profile</td>\n",
              "      <td>2020-05-29 05:11:53.000</td>\n",
              "      <td>365390</td>\n",
              "      <td>3</td>\n",
              "      <td>58176</td>\n",
              "      <td>80</td>\n",
              "      <td>58176</td>\n",
              "      <td>80</td>\n",
              "      <td>0x402000</td>\n",
              "      <td>tcp</td>\n",
              "      <td>alert</td>\n",
              "      <td>NaN</td>\n",
              "      <td>HTTP SQL Injection Attempt(30514)</td>\n",
              "      <td>health-and-medicine</td>\n",
              "      <td>medium</td>\n",
              "      <td>client-to-server</td>\n",
              "      <td>761211</td>\n",
              "      <td>0x0</td>\n",
              "      <td>United States</td>\n",
              "      <td>172.16.0.0-172.31.255.255</td>\n",
              "      <td>0</td>\n",
              "      <td>NaN</td>\n",
              "      <td>0</td>\n",
              "      <td>NaN</td>\n",
              "      <td>NaN</td>\n",
              "      <td>1</td>\n",
              "      <td>NaN</td>\n",
              "      <td>NaN</td>\n",
              "      <td>NaN</td>\n",
              "      <td>NaN</td>\n",
              "      <td>NaN</td>\n",
              "      <td>NaN</td>\n",
              "      <td>NaN</td>\n",
              "      <td>0</td>\n",
              "      <td>0</td>\n",
              "      <td>0</td>\n",
              "      <td>0</td>\n",
              "      <td>0</td>\n",
              "      <td>ADC-FW</td>\n",
              "      <td>Abbott-ADC-FW</td>\n",
              "      <td>NaN</td>\n",
              "      <td>NaN</td>\n",
              "      <td>NaN</td>\n",
              "      <td>NaN</td>\n",
              "      <td>0</td>\n",
              "      <td>NaN</td>\n",
              "      <td>0</td>\n",
              "      <td>NaN</td>\n",
              "      <td>NaN</td>\n",
              "      <td>sql-injection</td>\n",
              "      <td>AppThreat-8277-6107</td>\n",
              "      <td>0x0</td>\n",
              "      <td>0</td>\n",
              "      <td>4294967295</td>\n",
              "      <td>NaN</td>\n",
              "      <td>NaN</td>\n",
              "      <td>NaN</td>\n",
              "      <td>NaN</td>\n",
              "      <td>NaN</td>\n",
              "    </tr>\n",
              "    <tr>\n",
              "      <th>4</th>\n",
              "      <td>1</td>\n",
              "      <td>2020-05-29 05:11:47.000</td>\n",
              "      <td>7.2550000573e+012</td>\n",
              "      <td>THREAT</td>\n",
              "      <td>vulnerability</td>\n",
              "      <td>2049</td>\n",
              "      <td>43980.216516</td>\n",
              "      <td>23.94.94.0/24</td>\n",
              "      <td>172.19.30.0/24</td>\n",
              "      <td>23.94.94.0/24</td>\n",
              "      <td>172.19.32.0/24</td>\n",
              "      <td>O2I_Prod_Server_Access</td>\n",
              "      <td>NaN</td>\n",
              "      <td>NaN</td>\n",
              "      <td>web-browsing</td>\n",
              "      <td>vsys1</td>\n",
              "      <td>Internet_Zone</td>\n",
              "      <td>Prod_Zone</td>\n",
              "      <td>ethernet1/1</td>\n",
              "      <td>ethernet1/2</td>\n",
              "      <td>Syslog-Profile</td>\n",
              "      <td>2020-05-29 05:11:47.000</td>\n",
              "      <td>390193</td>\n",
              "      <td>1</td>\n",
              "      <td>58042</td>\n",
              "      <td>80</td>\n",
              "      <td>58042</td>\n",
              "      <td>80</td>\n",
              "      <td>0x402000</td>\n",
              "      <td>tcp</td>\n",
              "      <td>alert</td>\n",
              "      <td>NaN</td>\n",
              "      <td>HTTP SQL Injection Attempt(30514)</td>\n",
              "      <td>health-and-medicine</td>\n",
              "      <td>medium</td>\n",
              "      <td>client-to-server</td>\n",
              "      <td>761210</td>\n",
              "      <td>0x0</td>\n",
              "      <td>United States</td>\n",
              "      <td>172.16.0.0-172.31.255.255</td>\n",
              "      <td>0</td>\n",
              "      <td>NaN</td>\n",
              "      <td>0</td>\n",
              "      <td>NaN</td>\n",
              "      <td>NaN</td>\n",
              "      <td>1</td>\n",
              "      <td>NaN</td>\n",
              "      <td>NaN</td>\n",
              "      <td>NaN</td>\n",
              "      <td>NaN</td>\n",
              "      <td>NaN</td>\n",
              "      <td>NaN</td>\n",
              "      <td>NaN</td>\n",
              "      <td>0</td>\n",
              "      <td>0</td>\n",
              "      <td>0</td>\n",
              "      <td>0</td>\n",
              "      <td>0</td>\n",
              "      <td>ADC-FW</td>\n",
              "      <td>Abbott-ADC-FW</td>\n",
              "      <td>NaN</td>\n",
              "      <td>NaN</td>\n",
              "      <td>NaN</td>\n",
              "      <td>NaN</td>\n",
              "      <td>0</td>\n",
              "      <td>NaN</td>\n",
              "      <td>0</td>\n",
              "      <td>NaN</td>\n",
              "      <td>NaN</td>\n",
              "      <td>sql-injection</td>\n",
              "      <td>AppThreat-8277-6107</td>\n",
              "      <td>0x0</td>\n",
              "      <td>0</td>\n",
              "      <td>4294967295</td>\n",
              "      <td>NaN</td>\n",
              "      <td>NaN</td>\n",
              "      <td>NaN</td>\n",
              "      <td>NaN</td>\n",
              "      <td>NaN</td>\n",
              "    </tr>\n",
              "  </tbody>\n",
              "</table>\n",
              "</div>"
            ],
            "text/plain": [
              "   Domain             Receive Time  ... HTTP/2 Connection dynusergroup_name\n",
              "0       1  2020-05-29 05:12:12.000  ...               NaN               NaN\n",
              "1       1  2020-05-29 05:12:06.000  ...               NaN               NaN\n",
              "2       1  2020-05-29 05:11:59.000  ...               NaN               NaN\n",
              "3       1  2020-05-29 05:11:53.000  ...               NaN               NaN\n",
              "4       1  2020-05-29 05:11:47.000  ...               NaN               NaN\n",
              "\n",
              "[5 rows x 79 columns]"
            ]
          },
          "metadata": {
            "tags": []
          },
          "execution_count": 132
        }
      ]
    },
    {
      "cell_type": "code",
      "metadata": {
        "id": "Uq_n2ePTfcw5",
        "colab_type": "code",
        "colab": {
          "base_uri": "https://localhost:8080/",
          "height": 411
        },
        "outputId": "82d25434-2d01-4183-9c45-9e0d470da948"
      },
      "source": [
        "n_Data_update.head()"
      ],
      "execution_count": 108,
      "outputs": [
        {
          "output_type": "execute_result",
          "data": {
            "text/html": [
              "<div>\n",
              "<style scoped>\n",
              "    .dataframe tbody tr th:only-of-type {\n",
              "        vertical-align: middle;\n",
              "    }\n",
              "\n",
              "    .dataframe tbody tr th {\n",
              "        vertical-align: top;\n",
              "    }\n",
              "\n",
              "    .dataframe thead th {\n",
              "        text-align: right;\n",
              "    }\n",
              "</style>\n",
              "<table border=\"1\" class=\"dataframe\">\n",
              "  <thead>\n",
              "    <tr style=\"text-align: right;\">\n",
              "      <th></th>\n",
              "      <th>Host</th>\n",
              "      <th>Date</th>\n",
              "      <th>Page/File</th>\n",
              "      <th>URL parameter</th>\n",
              "      <th>Bandwidth</th>\n",
              "      <th>Response Code</th>\n",
              "      <th>Request Method</th>\n",
              "      <th>Referrers</th>\n",
              "      <th>User Agent</th>\n",
              "      <th>User</th>\n",
              "      <th>Virtual Domain</th>\n",
              "      <th>Cookie</th>\n",
              "      <th>Receive Time</th>\n",
              "    </tr>\n",
              "  </thead>\n",
              "  <tbody>\n",
              "    <tr>\n",
              "      <th>79363</th>\n",
              "      <td>172.1.5.56 (United States)</td>\n",
              "      <td>2020-05-23 12:02:28.000</td>\n",
              "      <td>/wp-login.php</td>\n",
              "      <td>NaN</td>\n",
              "      <td>3.54 KB</td>\n",
              "      <td>404 - Not Found</td>\n",
              "      <td>GET</td>\n",
              "      <td>No Referrer</td>\n",
              "      <td>Mozilla/5.0 (Macintosh; Intel Mac OS X 10.11; ...</td>\n",
              "      <td>NaN</td>\n",
              "      <td>NaN</td>\n",
              "      <td>NaN</td>\n",
              "      <td>2020-06-13 00:31:10.000</td>\n",
              "    </tr>\n",
              "    <tr>\n",
              "      <th>52652</th>\n",
              "      <td>172.1.5.56 (United States)</td>\n",
              "      <td>2020-05-23 18:39:39.000</td>\n",
              "      <td>/.well-known/assetlinks.json</td>\n",
              "      <td>NaN</td>\n",
              "      <td>19.95 KB</td>\n",
              "      <td>404 - Not Found</td>\n",
              "      <td>POST</td>\n",
              "      <td>No Referrer</td>\n",
              "      <td>{version:6.2017.2,platform:server_android,osve...</td>\n",
              "      <td>NaN</td>\n",
              "      <td>NaN</td>\n",
              "      <td>NaN</td>\n",
              "      <td>2020-06-13 11:25:10.000</td>\n",
              "    </tr>\n",
              "    <tr>\n",
              "      <th>37507</th>\n",
              "      <td>172.1.5.56 (United States)</td>\n",
              "      <td>2020-05-24 04:16:14.000</td>\n",
              "      <td>/customer/account/confirm/</td>\n",
              "      <td>id=19972&amp;key=f5c9EuUIi6I4JkSnkg6kXkogOob4mM20</td>\n",
              "      <td>5</td>\n",
              "      <td>302 - Found</td>\n",
              "      <td>GET</td>\n",
              "      <td>No Referrer</td>\n",
              "      <td>Mozilla/5.0 (Macintosh; Intel Mac OS X 10.12; ...</td>\n",
              "      <td>NaN</td>\n",
              "      <td>NaN</td>\n",
              "      <td>NaN</td>\n",
              "      <td>2020-04-24 02:38:31.000</td>\n",
              "    </tr>\n",
              "    <tr>\n",
              "      <th>80753</th>\n",
              "      <td>172.1.6.5 (United States)</td>\n",
              "      <td>2020-05-24 12:30:04.000</td>\n",
              "      <td>/media/email/</td>\n",
              "      <td>NaN</td>\n",
              "      <td>8.11 KB</td>\n",
              "      <td>404 - Not Found</td>\n",
              "      <td>GET</td>\n",
              "      <td>No Referrer</td>\n",
              "      <td>Mozilla/4.047745454 Mozilla/4.0 (compatible; M...</td>\n",
              "      <td>NaN</td>\n",
              "      <td>NaN</td>\n",
              "      <td>NaN</td>\n",
              "      <td>2020-06-06 04:09:31.000</td>\n",
              "    </tr>\n",
              "    <tr>\n",
              "      <th>99378</th>\n",
              "      <td>172.1.6.5 (United States)</td>\n",
              "      <td>2020-05-24 22:59:25.000</td>\n",
              "      <td>/wp-login.php</td>\n",
              "      <td>NaN</td>\n",
              "      <td>8.11 KB</td>\n",
              "      <td>404 - Not Found</td>\n",
              "      <td>POST</td>\n",
              "      <td>No Referrer</td>\n",
              "      <td>Mozilla/4.0 (compatible; MSIE 6.0; Windows NT ...</td>\n",
              "      <td>NaN</td>\n",
              "      <td>NaN</td>\n",
              "      <td>NaN</td>\n",
              "      <td>NaN</td>\n",
              "    </tr>\n",
              "  </tbody>\n",
              "</table>\n",
              "</div>"
            ],
            "text/plain": [
              "                             Host  ...             Receive Time\n",
              "79363  172.1.5.56 (United States)  ...  2020-06-13 00:31:10.000\n",
              "52652  172.1.5.56 (United States)  ...  2020-06-13 11:25:10.000\n",
              "37507  172.1.5.56 (United States)  ...  2020-04-24 02:38:31.000\n",
              "80753   172.1.6.5 (United States)  ...  2020-06-06 04:09:31.000\n",
              "99378   172.1.6.5 (United States)  ...                      NaN\n",
              "\n",
              "[5 rows x 13 columns]"
            ]
          },
          "metadata": {
            "tags": []
          },
          "execution_count": 108
        }
      ]
    },
    {
      "cell_type": "code",
      "metadata": {
        "id": "7GsgHsXhjyqr",
        "colab_type": "code",
        "colab": {}
      },
      "source": [
        "a = list(df['Receive Time'])\n",
        "b = list(n_Data_update['Date'])"
      ],
      "execution_count": 129,
      "outputs": []
    },
    {
      "cell_type": "code",
      "metadata": {
        "id": "9NYm3pSvj3sQ",
        "colab_type": "code",
        "colab": {}
      },
      "source": [
        "c = []\n",
        "for i in a:\n",
        "  for j in b:\n",
        "    if i == j:\n",
        "      c.append(i)\n",
        "      break\n"
      ],
      "execution_count": 130,
      "outputs": []
    },
    {
      "cell_type": "code",
      "metadata": {
        "id": "Z-TbYTXCkFGG",
        "colab_type": "code",
        "colab": {
          "base_uri": "https://localhost:8080/",
          "height": 34
        },
        "outputId": "af4ca011-a9d9-4acd-d46e-543719998357"
      },
      "source": [
        "c"
      ],
      "execution_count": 131,
      "outputs": [
        {
          "output_type": "execute_result",
          "data": {
            "text/plain": [
              "[]"
            ]
          },
          "metadata": {
            "tags": []
          },
          "execution_count": 131
        }
      ]
    },
    {
      "cell_type": "markdown",
      "metadata": {
        "id": "IwBSEZATlBc6",
        "colab_type": "text"
      },
      "source": [
        "c show empty list. That's mean no time instant is same in both data set"
      ]
    },
    {
      "cell_type": "code",
      "metadata": {
        "id": "nl-37mUdWjPQ",
        "colab_type": "code",
        "colab": {}
      },
      "source": [
        ""
      ],
      "execution_count": null,
      "outputs": []
    }
  ]
}
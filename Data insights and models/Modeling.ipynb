{
 "cells": [
  {
   "cell_type": "code",
   "execution_count": 17,
   "metadata": {},
   "outputs": [],
   "source": [
    "\n",
    "\n",
    "# Importing the libraries\n",
    "import numpy as np\n",
    "import matplotlib.pyplot as plt\n",
    "import pandas as pd\n"
   ]
  },
  {
   "cell_type": "code",
   "execution_count": 18,
   "metadata": {},
   "outputs": [],
   "source": [
    "df1 = pd.read_csv('paloalto.csv')"
   ]
  },
  {
   "cell_type": "code",
   "execution_count": 19,
   "metadata": {},
   "outputs": [
    {
     "data": {
      "text/html": [
       "<div>\n",
       "<style scoped>\n",
       "    .dataframe tbody tr th:only-of-type {\n",
       "        vertical-align: middle;\n",
       "    }\n",
       "\n",
       "    .dataframe tbody tr th {\n",
       "        vertical-align: top;\n",
       "    }\n",
       "\n",
       "    .dataframe thead th {\n",
       "        text-align: right;\n",
       "    }\n",
       "</style>\n",
       "<table border=\"1\" class=\"dataframe\">\n",
       "  <thead>\n",
       "    <tr style=\"text-align: right;\">\n",
       "      <th></th>\n",
       "      <th>Domain</th>\n",
       "      <th>Receive Time</th>\n",
       "      <th>Serial #</th>\n",
       "      <th>Type</th>\n",
       "      <th>Threat/Content Type</th>\n",
       "      <th>Config Version</th>\n",
       "      <th>Generate Time</th>\n",
       "      <th>Source address</th>\n",
       "      <th>Destination address</th>\n",
       "      <th>NAT Source IP</th>\n",
       "      <th>...</th>\n",
       "      <th>thr_category</th>\n",
       "      <th>contentver</th>\n",
       "      <th>sig_flags</th>\n",
       "      <th>SCTP Association ID</th>\n",
       "      <th>Payload Protocol ID</th>\n",
       "      <th>http_headers</th>\n",
       "      <th>URL Category List</th>\n",
       "      <th>UUID for rule</th>\n",
       "      <th>HTTP/2 Connection</th>\n",
       "      <th>dynusergroup_name</th>\n",
       "    </tr>\n",
       "  </thead>\n",
       "  <tbody>\n",
       "    <tr>\n",
       "      <th>0</th>\n",
       "      <td>1</td>\n",
       "      <td>2020-05-29 05:12:12.000</td>\n",
       "      <td>7.2550000573e+012</td>\n",
       "      <td>THREAT</td>\n",
       "      <td>vulnerability</td>\n",
       "      <td>2049</td>\n",
       "      <td>43980.216806</td>\n",
       "      <td>23.94.94.0/24</td>\n",
       "      <td>172.19.30.0/24</td>\n",
       "      <td>23.94.94.0/24</td>\n",
       "      <td>...</td>\n",
       "      <td>sql-injection</td>\n",
       "      <td>AppThreat-8277-6107</td>\n",
       "      <td>0x0</td>\n",
       "      <td>0</td>\n",
       "      <td>4294967295</td>\n",
       "      <td>NaN</td>\n",
       "      <td>NaN</td>\n",
       "      <td>NaN</td>\n",
       "      <td>NaN</td>\n",
       "      <td>NaN</td>\n",
       "    </tr>\n",
       "    <tr>\n",
       "      <th>1</th>\n",
       "      <td>1</td>\n",
       "      <td>2020-05-29 05:12:06.000</td>\n",
       "      <td>7.2550000573e+012</td>\n",
       "      <td>THREAT</td>\n",
       "      <td>vulnerability</td>\n",
       "      <td>2049</td>\n",
       "      <td>43980.216736</td>\n",
       "      <td>23.94.94.0/24</td>\n",
       "      <td>172.19.30.0/24</td>\n",
       "      <td>23.94.94.0/24</td>\n",
       "      <td>...</td>\n",
       "      <td>sql-injection</td>\n",
       "      <td>AppThreat-8277-6107</td>\n",
       "      <td>0x0</td>\n",
       "      <td>0</td>\n",
       "      <td>4294967295</td>\n",
       "      <td>NaN</td>\n",
       "      <td>NaN</td>\n",
       "      <td>NaN</td>\n",
       "      <td>NaN</td>\n",
       "      <td>NaN</td>\n",
       "    </tr>\n",
       "    <tr>\n",
       "      <th>2</th>\n",
       "      <td>1</td>\n",
       "      <td>2020-05-29 05:11:59.000</td>\n",
       "      <td>7.2550000573e+012</td>\n",
       "      <td>THREAT</td>\n",
       "      <td>vulnerability</td>\n",
       "      <td>2049</td>\n",
       "      <td>43980.216655</td>\n",
       "      <td>23.94.94.0/24</td>\n",
       "      <td>172.19.30.0/24</td>\n",
       "      <td>23.94.94.0/24</td>\n",
       "      <td>...</td>\n",
       "      <td>sql-injection</td>\n",
       "      <td>AppThreat-8277-6107</td>\n",
       "      <td>0x0</td>\n",
       "      <td>0</td>\n",
       "      <td>4294967295</td>\n",
       "      <td>NaN</td>\n",
       "      <td>NaN</td>\n",
       "      <td>NaN</td>\n",
       "      <td>NaN</td>\n",
       "      <td>NaN</td>\n",
       "    </tr>\n",
       "    <tr>\n",
       "      <th>3</th>\n",
       "      <td>1</td>\n",
       "      <td>2020-05-29 05:11:53.000</td>\n",
       "      <td>7.2550000573e+012</td>\n",
       "      <td>THREAT</td>\n",
       "      <td>vulnerability</td>\n",
       "      <td>2049</td>\n",
       "      <td>43980.216586</td>\n",
       "      <td>23.94.94.0/24</td>\n",
       "      <td>172.19.30.0/24</td>\n",
       "      <td>23.94.94.0/24</td>\n",
       "      <td>...</td>\n",
       "      <td>sql-injection</td>\n",
       "      <td>AppThreat-8277-6107</td>\n",
       "      <td>0x0</td>\n",
       "      <td>0</td>\n",
       "      <td>4294967295</td>\n",
       "      <td>NaN</td>\n",
       "      <td>NaN</td>\n",
       "      <td>NaN</td>\n",
       "      <td>NaN</td>\n",
       "      <td>NaN</td>\n",
       "    </tr>\n",
       "    <tr>\n",
       "      <th>4</th>\n",
       "      <td>1</td>\n",
       "      <td>2020-05-29 05:11:47.000</td>\n",
       "      <td>7.2550000573e+012</td>\n",
       "      <td>THREAT</td>\n",
       "      <td>vulnerability</td>\n",
       "      <td>2049</td>\n",
       "      <td>43980.216516</td>\n",
       "      <td>23.94.94.0/24</td>\n",
       "      <td>172.19.30.0/24</td>\n",
       "      <td>23.94.94.0/24</td>\n",
       "      <td>...</td>\n",
       "      <td>sql-injection</td>\n",
       "      <td>AppThreat-8277-6107</td>\n",
       "      <td>0x0</td>\n",
       "      <td>0</td>\n",
       "      <td>4294967295</td>\n",
       "      <td>NaN</td>\n",
       "      <td>NaN</td>\n",
       "      <td>NaN</td>\n",
       "      <td>NaN</td>\n",
       "      <td>NaN</td>\n",
       "    </tr>\n",
       "  </tbody>\n",
       "</table>\n",
       "<p>5 rows × 79 columns</p>\n",
       "</div>"
      ],
      "text/plain": [
       "   Domain             Receive Time           Serial #    Type  \\\n",
       "0       1  2020-05-29 05:12:12.000  7.2550000573e+012  THREAT   \n",
       "1       1  2020-05-29 05:12:06.000  7.2550000573e+012  THREAT   \n",
       "2       1  2020-05-29 05:11:59.000  7.2550000573e+012  THREAT   \n",
       "3       1  2020-05-29 05:11:53.000  7.2550000573e+012  THREAT   \n",
       "4       1  2020-05-29 05:11:47.000  7.2550000573e+012  THREAT   \n",
       "\n",
       "  Threat/Content Type  Config Version  Generate Time Source address  \\\n",
       "0       vulnerability            2049   43980.216806  23.94.94.0/24   \n",
       "1       vulnerability            2049   43980.216736  23.94.94.0/24   \n",
       "2       vulnerability            2049   43980.216655  23.94.94.0/24   \n",
       "3       vulnerability            2049   43980.216586  23.94.94.0/24   \n",
       "4       vulnerability            2049   43980.216516  23.94.94.0/24   \n",
       "\n",
       "  Destination address  NAT Source IP  ...   thr_category           contentver  \\\n",
       "0      172.19.30.0/24  23.94.94.0/24  ...  sql-injection  AppThreat-8277-6107   \n",
       "1      172.19.30.0/24  23.94.94.0/24  ...  sql-injection  AppThreat-8277-6107   \n",
       "2      172.19.30.0/24  23.94.94.0/24  ...  sql-injection  AppThreat-8277-6107   \n",
       "3      172.19.30.0/24  23.94.94.0/24  ...  sql-injection  AppThreat-8277-6107   \n",
       "4      172.19.30.0/24  23.94.94.0/24  ...  sql-injection  AppThreat-8277-6107   \n",
       "\n",
       "   sig_flags  SCTP Association ID Payload Protocol ID http_headers  \\\n",
       "0        0x0                    0          4294967295          NaN   \n",
       "1        0x0                    0          4294967295          NaN   \n",
       "2        0x0                    0          4294967295          NaN   \n",
       "3        0x0                    0          4294967295          NaN   \n",
       "4        0x0                    0          4294967295          NaN   \n",
       "\n",
       "  URL Category List UUID for rule HTTP/2 Connection dynusergroup_name  \n",
       "0               NaN           NaN               NaN               NaN  \n",
       "1               NaN           NaN               NaN               NaN  \n",
       "2               NaN           NaN               NaN               NaN  \n",
       "3               NaN           NaN               NaN               NaN  \n",
       "4               NaN           NaN               NaN               NaN  \n",
       "\n",
       "[5 rows x 79 columns]"
      ]
     },
     "execution_count": 19,
     "metadata": {},
     "output_type": "execute_result"
    }
   ],
   "source": [
    "df1.head()"
   ]
  },
  {
   "cell_type": "markdown",
   "metadata": {},
   "source": [
    "# Data Cleaning Droping null values"
   ]
  },
  {
   "cell_type": "code",
   "execution_count": 20,
   "metadata": {},
   "outputs": [],
   "source": [
    "#first we encode all string into int for our model\n",
    "from sklearn import preprocessing\n",
    "le = preprocessing.LabelEncoder()"
   ]
  },
  {
   "cell_type": "code",
   "execution_count": 21,
   "metadata": {},
   "outputs": [],
   "source": [
    "df4=df1.apply(lambda col: le.fit_transform(col.astype(str)), axis=0, result_type='expand')"
   ]
  },
  {
   "cell_type": "code",
   "execution_count": 24,
   "metadata": {},
   "outputs": [],
   "source": [
    "\n",
    "#list(df4.columns.values)"
   ]
  },
  {
   "cell_type": "code",
   "execution_count": 25,
   "metadata": {},
   "outputs": [
    {
     "data": {
      "text/html": [
       "<div>\n",
       "<style scoped>\n",
       "    .dataframe tbody tr th:only-of-type {\n",
       "        vertical-align: middle;\n",
       "    }\n",
       "\n",
       "    .dataframe tbody tr th {\n",
       "        vertical-align: top;\n",
       "    }\n",
       "\n",
       "    .dataframe thead th {\n",
       "        text-align: right;\n",
       "    }\n",
       "</style>\n",
       "<table border=\"1\" class=\"dataframe\">\n",
       "  <thead>\n",
       "    <tr style=\"text-align: right;\">\n",
       "      <th></th>\n",
       "      <th>Serial #</th>\n",
       "      <th>Type</th>\n",
       "      <th>Threat/Content Type</th>\n",
       "      <th>Config Version</th>\n",
       "      <th>Generate Time</th>\n",
       "      <th>Source address</th>\n",
       "      <th>Destination address</th>\n",
       "      <th>NAT Source IP</th>\n",
       "      <th>NAT Destination IP</th>\n",
       "      <th>Rule</th>\n",
       "      <th>...</th>\n",
       "      <th>Destination Country</th>\n",
       "      <th>cpadding</th>\n",
       "      <th>url_idx</th>\n",
       "      <th>Virtual System Name</th>\n",
       "      <th>Device Name</th>\n",
       "      <th>thr_category</th>\n",
       "      <th>contentver</th>\n",
       "      <th>sig_flags</th>\n",
       "      <th>SCTP Association ID</th>\n",
       "      <th>Payload Protocol ID</th>\n",
       "    </tr>\n",
       "  </thead>\n",
       "  <tbody>\n",
       "    <tr>\n",
       "      <th>0</th>\n",
       "      <td>5</td>\n",
       "      <td>0</td>\n",
       "      <td>4</td>\n",
       "      <td>0</td>\n",
       "      <td>53357</td>\n",
       "      <td>4742</td>\n",
       "      <td>40</td>\n",
       "      <td>2002</td>\n",
       "      <td>87</td>\n",
       "      <td>15</td>\n",
       "      <td>...</td>\n",
       "      <td>1</td>\n",
       "      <td>0</td>\n",
       "      <td>1</td>\n",
       "      <td>0</td>\n",
       "      <td>0</td>\n",
       "      <td>12</td>\n",
       "      <td>34</td>\n",
       "      <td>0</td>\n",
       "      <td>0</td>\n",
       "      <td>0</td>\n",
       "    </tr>\n",
       "    <tr>\n",
       "      <th>1</th>\n",
       "      <td>5</td>\n",
       "      <td>0</td>\n",
       "      <td>4</td>\n",
       "      <td>0</td>\n",
       "      <td>53356</td>\n",
       "      <td>4742</td>\n",
       "      <td>40</td>\n",
       "      <td>2002</td>\n",
       "      <td>87</td>\n",
       "      <td>15</td>\n",
       "      <td>...</td>\n",
       "      <td>1</td>\n",
       "      <td>0</td>\n",
       "      <td>1</td>\n",
       "      <td>0</td>\n",
       "      <td>0</td>\n",
       "      <td>12</td>\n",
       "      <td>34</td>\n",
       "      <td>0</td>\n",
       "      <td>0</td>\n",
       "      <td>0</td>\n",
       "    </tr>\n",
       "    <tr>\n",
       "      <th>2</th>\n",
       "      <td>5</td>\n",
       "      <td>0</td>\n",
       "      <td>4</td>\n",
       "      <td>0</td>\n",
       "      <td>53355</td>\n",
       "      <td>4742</td>\n",
       "      <td>40</td>\n",
       "      <td>2002</td>\n",
       "      <td>87</td>\n",
       "      <td>15</td>\n",
       "      <td>...</td>\n",
       "      <td>1</td>\n",
       "      <td>0</td>\n",
       "      <td>1</td>\n",
       "      <td>0</td>\n",
       "      <td>0</td>\n",
       "      <td>12</td>\n",
       "      <td>34</td>\n",
       "      <td>0</td>\n",
       "      <td>0</td>\n",
       "      <td>0</td>\n",
       "    </tr>\n",
       "    <tr>\n",
       "      <th>3</th>\n",
       "      <td>5</td>\n",
       "      <td>0</td>\n",
       "      <td>4</td>\n",
       "      <td>0</td>\n",
       "      <td>53354</td>\n",
       "      <td>4742</td>\n",
       "      <td>40</td>\n",
       "      <td>2002</td>\n",
       "      <td>87</td>\n",
       "      <td>15</td>\n",
       "      <td>...</td>\n",
       "      <td>1</td>\n",
       "      <td>0</td>\n",
       "      <td>1</td>\n",
       "      <td>0</td>\n",
       "      <td>0</td>\n",
       "      <td>12</td>\n",
       "      <td>34</td>\n",
       "      <td>0</td>\n",
       "      <td>0</td>\n",
       "      <td>0</td>\n",
       "    </tr>\n",
       "    <tr>\n",
       "      <th>4</th>\n",
       "      <td>5</td>\n",
       "      <td>0</td>\n",
       "      <td>4</td>\n",
       "      <td>0</td>\n",
       "      <td>53353</td>\n",
       "      <td>4742</td>\n",
       "      <td>40</td>\n",
       "      <td>2002</td>\n",
       "      <td>87</td>\n",
       "      <td>15</td>\n",
       "      <td>...</td>\n",
       "      <td>1</td>\n",
       "      <td>0</td>\n",
       "      <td>1</td>\n",
       "      <td>0</td>\n",
       "      <td>0</td>\n",
       "      <td>12</td>\n",
       "      <td>34</td>\n",
       "      <td>0</td>\n",
       "      <td>0</td>\n",
       "      <td>0</td>\n",
       "    </tr>\n",
       "  </tbody>\n",
       "</table>\n",
       "<p>5 rows × 44 columns</p>\n",
       "</div>"
      ],
      "text/plain": [
       "   Serial #  Type  Threat/Content Type  Config Version  Generate Time  \\\n",
       "0         5     0                    4               0          53357   \n",
       "1         5     0                    4               0          53356   \n",
       "2         5     0                    4               0          53355   \n",
       "3         5     0                    4               0          53354   \n",
       "4         5     0                    4               0          53353   \n",
       "\n",
       "   Source address  Destination address  NAT Source IP  NAT Destination IP  \\\n",
       "0            4742                   40           2002                  87   \n",
       "1            4742                   40           2002                  87   \n",
       "2            4742                   40           2002                  87   \n",
       "3            4742                   40           2002                  87   \n",
       "4            4742                   40           2002                  87   \n",
       "\n",
       "   Rule  ...  Destination Country  cpadding  url_idx  Virtual System Name  \\\n",
       "0    15  ...                    1         0        1                    0   \n",
       "1    15  ...                    1         0        1                    0   \n",
       "2    15  ...                    1         0        1                    0   \n",
       "3    15  ...                    1         0        1                    0   \n",
       "4    15  ...                    1         0        1                    0   \n",
       "\n",
       "   Device Name  thr_category  contentver  sig_flags  SCTP Association ID  \\\n",
       "0            0            12          34          0                    0   \n",
       "1            0            12          34          0                    0   \n",
       "2            0            12          34          0                    0   \n",
       "3            0            12          34          0                    0   \n",
       "4            0            12          34          0                    0   \n",
       "\n",
       "   Payload Protocol ID  \n",
       "0                    0  \n",
       "1                    0  \n",
       "2                    0  \n",
       "3                    0  \n",
       "4                    0  \n",
       "\n",
       "[5 rows x 44 columns]"
      ]
     },
     "execution_count": 25,
     "metadata": {},
     "output_type": "execute_result"
    }
   ],
   "source": [
    "#Now we are droping all null values and unuseful data\n",
    "new_df1=df4.drop(['Source User', 'Destination User','contenttype','filedigest','cloud',\n",
    "         'user_agent','filetype','xff','referer','sender','subject','recipient','reportid','DG Hierarchy Level 1',\n",
    "         'DG Hierarchy Level 2','DG Hierarchy Level 3','DG Hierarchy Level 4','file_url','Source VM UUID','Destination VM UUID',\n",
    "         'http_method','Tunnel ID/IMSI','Parent Session ID','Parent Session Start Time','Tunnel','URL Category List',\n",
    "        'dynusergroup_name','http_headers','Domain','Receive Time','URL/Filename','pcap_id','Monitor Tag/IMEI','UUID for rule',\n",
    "                   'HTTP/2 Connection'], axis = 1)\n",
    "\n",
    "new_df1.head()"
   ]
  },
  {
   "cell_type": "code",
   "execution_count": 32,
   "metadata": {},
   "outputs": [],
   "source": [
    "x1 = new_df1.drop([\"Threat/Content Type\"],axis = 1)\n",
    "X = x1.iloc[:,2:44].values\n",
    "y = new_df1.iloc[:,2].values"
   ]
  },
  {
   "cell_type": "code",
   "execution_count": 33,
   "metadata": {},
   "outputs": [],
   "source": [
    "# Splitting the dataset into the Training set and Test set\n",
    "from sklearn.model_selection import train_test_split\n",
    "X_train, X_test, y_train, y_test = train_test_split(X, y, test_size = 0.30, random_state = 0)"
   ]
  },
  {
   "cell_type": "markdown",
   "metadata": {},
   "source": [
    "# Building the Logistic Regression Model"
   ]
  },
  {
   "cell_type": "code",
   "execution_count": 34,
   "metadata": {},
   "outputs": [
    {
     "name": "stderr",
     "output_type": "stream",
     "text": [
      "C:\\ProgramData\\Anaconda3\\lib\\site-packages\\sklearn\\linear_model\\logistic.py:432: FutureWarning: Default solver will be changed to 'lbfgs' in 0.22. Specify a solver to silence this warning.\n",
      "  FutureWarning)\n",
      "C:\\ProgramData\\Anaconda3\\lib\\site-packages\\sklearn\\linear_model\\logistic.py:469: FutureWarning: Default multi_class will be changed to 'auto' in 0.22. Specify the multi_class option to silence this warning.\n",
      "  \"this warning.\", FutureWarning)\n"
     ]
    },
    {
     "data": {
      "text/plain": [
       "LogisticRegression(C=1.0, class_weight=None, dual=False, fit_intercept=True,\n",
       "                   intercept_scaling=1, l1_ratio=None, max_iter=100,\n",
       "                   multi_class='warn', n_jobs=None, penalty='l2',\n",
       "                   random_state=0, solver='warn', tol=0.0001, verbose=0,\n",
       "                   warm_start=False)"
      ]
     },
     "execution_count": 34,
     "metadata": {},
     "output_type": "execute_result"
    }
   ],
   "source": [
    "# Fitting Logistic Regression to the Training set\n",
    "from sklearn.linear_model import LogisticRegression\n",
    "classifier = LogisticRegression(random_state = 0)\n",
    "classifier.fit(X_train, y_train)"
   ]
  },
  {
   "cell_type": "code",
   "execution_count": 35,
   "metadata": {},
   "outputs": [],
   "source": [
    "# Predicting the Test set results\n",
    "y_pred = classifier.predict(X_test)"
   ]
  },
  {
   "cell_type": "code",
   "execution_count": 36,
   "metadata": {},
   "outputs": [],
   "source": [
    "# Making the Confusion Matrix\n",
    "from sklearn.metrics import confusion_matrix\n",
    "cm = confusion_matrix(y_test, y_pred)"
   ]
  },
  {
   "cell_type": "code",
   "execution_count": 38,
   "metadata": {},
   "outputs": [
    {
     "data": {
      "text/plain": [
       "array([[  729,     0,     0,     0],\n",
       "       [    0,     0,     0,     0],\n",
       "       [    0,     0,   253,   234],\n",
       "       [    0,     1,     7, 26322]], dtype=int64)"
      ]
     },
     "execution_count": 38,
     "metadata": {},
     "output_type": "execute_result"
    }
   ],
   "source": [
    "cm"
   ]
  },
  {
   "cell_type": "markdown",
   "metadata": {},
   "source": [
    "# Accuracy of Logistic Regression"
   ]
  },
  {
   "cell_type": "code",
   "execution_count": 40,
   "metadata": {},
   "outputs": [
    {
     "name": "stdout",
     "output_type": "stream",
     "text": [
      "Accuracy: 0.9912146954185725\n"
     ]
    }
   ],
   "source": [
    "from sklearn import metrics\n",
    "print(\"Accuracy:\",metrics.accuracy_score(y_test, y_pred))"
   ]
  },
  {
   "cell_type": "markdown",
   "metadata": {},
   "source": [
    "# Building the Decision Tree Model"
   ]
  },
  {
   "cell_type": "code",
   "execution_count": 41,
   "metadata": {},
   "outputs": [
    {
     "data": {
      "text/plain": [
       "DecisionTreeRegressor(criterion='mse', max_depth=None, max_features=None,\n",
       "                      max_leaf_nodes=None, min_impurity_decrease=0.0,\n",
       "                      min_impurity_split=None, min_samples_leaf=1,\n",
       "                      min_samples_split=2, min_weight_fraction_leaf=0.0,\n",
       "                      presort=False, random_state=0, splitter='best')"
      ]
     },
     "execution_count": 41,
     "metadata": {},
     "output_type": "execute_result"
    }
   ],
   "source": [
    "X_train1, X_test1, y_train1, y_test1 = train_test_split(X, y, test_size = 0.30, random_state = 0)\n",
    "\n",
    "# Fitting Decision Tree Regression to the dataset\n",
    "from sklearn.tree import DecisionTreeRegressor\n",
    "regressor = DecisionTreeRegressor(random_state = 0)\n",
    "regressor.fit(X_train1, y_train1)"
   ]
  },
  {
   "cell_type": "code",
   "execution_count": 42,
   "metadata": {},
   "outputs": [],
   "source": [
    "y_pred1 = regressor.predict(X_test)"
   ]
  },
  {
   "cell_type": "code",
   "execution_count": 45,
   "metadata": {},
   "outputs": [],
   "source": [
    "# Making the Confusion Matrix\n",
    "from sklearn.metrics import confusion_matrix\n",
    "cm1 = confusion_matrix(y_test1, y_pred1)"
   ]
  },
  {
   "cell_type": "markdown",
   "metadata": {},
   "source": [
    "# Accuracy of Decision Tree Model"
   ]
  },
  {
   "cell_type": "code",
   "execution_count": 43,
   "metadata": {},
   "outputs": [
    {
     "name": "stdout",
     "output_type": "stream",
     "text": [
      "Accuracy: 0.9999636970885065\n"
     ]
    }
   ],
   "source": [
    "from sklearn import metrics\n",
    "print(\"Accuracy:\",metrics.accuracy_score(y_test1, y_pred1))"
   ]
  },
  {
   "cell_type": "markdown",
   "metadata": {},
   "source": [
    "# Building the Random Forest Model\n"
   ]
  },
  {
   "cell_type": "code",
   "execution_count": 51,
   "metadata": {},
   "outputs": [
    {
     "name": "stderr",
     "output_type": "stream",
     "text": [
      "C:\\ProgramData\\Anaconda3\\lib\\site-packages\\sklearn\\ensemble\\forest.py:245: FutureWarning: The default value of n_estimators will change from 10 in version 0.20 to 100 in 0.22.\n",
      "  \"10 in version 0.20 to 100 in 0.22.\", FutureWarning)\n"
     ]
    },
    {
     "data": {
      "text/plain": [
       "RandomForestClassifier(bootstrap=True, class_weight=None, criterion='gini',\n",
       "                       max_depth=None, max_features='auto', max_leaf_nodes=None,\n",
       "                       min_impurity_decrease=0.0, min_impurity_split=None,\n",
       "                       min_samples_leaf=1, min_samples_split=2,\n",
       "                       min_weight_fraction_leaf=0.0, n_estimators=10,\n",
       "                       n_jobs=None, oob_score=False, random_state=None,\n",
       "                       verbose=0, warm_start=False)"
      ]
     },
     "execution_count": 51,
     "metadata": {},
     "output_type": "execute_result"
    }
   ],
   "source": [
    "X_train2, X_test2, y_train2, y_test2 = train_test_split(X, y, test_size = 0.30, random_state = 0)\n",
    "\n",
    "from sklearn.ensemble import RandomForestClassifier\n",
    "clf=RandomForestClassifier()\n",
    "clf.fit(X_train2,y_train2)\n",
    "\n"
   ]
  },
  {
   "cell_type": "code",
   "execution_count": 52,
   "metadata": {},
   "outputs": [],
   "source": [
    "y_pred2=clf.predict(X_test2)"
   ]
  },
  {
   "cell_type": "code",
   "execution_count": 53,
   "metadata": {},
   "outputs": [],
   "source": [
    "# Making the Confusion Matrix\n",
    "from sklearn.metrics import confusion_matrix\n",
    "cm2 = confusion_matrix(y_test2, y_pred2)"
   ]
  },
  {
   "cell_type": "markdown",
   "metadata": {},
   "source": [
    "# Accuracy of Decision Tree Model"
   ]
  },
  {
   "cell_type": "code",
   "execution_count": 54,
   "metadata": {},
   "outputs": [
    {
     "name": "stdout",
     "output_type": "stream",
     "text": [
      "Accuracy: 0.9999636970885065\n"
     ]
    }
   ],
   "source": [
    "from sklearn import metrics\n",
    "print(\"Accuracy:\",metrics.accuracy_score(y_test2, y_pred2))\n"
   ]
  },
  {
   "cell_type": "code",
   "execution_count": null,
   "metadata": {},
   "outputs": [],
   "source": []
  }
 ],
 "metadata": {
  "kernelspec": {
   "display_name": "Python 3",
   "language": "python",
   "name": "python3"
  },
  "language_info": {
   "codemirror_mode": {
    "name": "ipython",
    "version": 3
   },
   "file_extension": ".py",
   "mimetype": "text/x-python",
   "name": "python",
   "nbconvert_exporter": "python",
   "pygments_lexer": "ipython3",
   "version": "3.7.3"
  }
 },
 "nbformat": 4,
 "nbformat_minor": 2
}
